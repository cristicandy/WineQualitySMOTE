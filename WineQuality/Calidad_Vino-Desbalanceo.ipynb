{
 "cells": [
  {
   "cell_type": "markdown",
   "metadata": {},
   "source": [
    "<div align = \"center\"><img src = \"https://scontent.fuio23-1.fna.fbcdn.net/v/t39.30808-6/307191239_110013115191598_6115107100616525954_n.png?_nc_cat=102&ccb=1-7&_nc_sid=52f669&_nc_eui2=AeGFjvPaeKy5-b8QjvccZI6V9sDs_jewpPr2wOz-N7Ck-mYtmkXJGImknOmXWq_xz4E&_nc_ohc=PzOucwtlaBgAX8WNUkx&_nc_ht=scontent.fuio23-1.fna&oh=00_AfBql_VTbeqd_eyOU7kcpKTN86wRsv3JHbtxmeiULdP8gA&oe=65039558\" width = \"900\"></div>"
   ]
  },
  {
   "cell_type": "markdown",
   "metadata": {},
   "source": [
    "# Calidad de vino tinto"
   ]
  },
  {
   "cell_type": "markdown",
   "metadata": {},
   "source": [
    "En este ejercicio se aplicará la Random Forests en un dataset con 1599 registros.\n",
    "\n",
    "URL: https://archive.ics.uci.edu/ml/datasets/Wine+Quality"
   ]
  },
  {
   "cell_type": "markdown",
   "metadata": {},
   "source": [
    "## Objetivos"
   ]
  },
  {
   "cell_type": "markdown",
   "metadata": {},
   "source": [
    "El trabajo consiste en predecir la calidad del vino tinto."
   ]
  },
  {
   "cell_type": "markdown",
   "metadata": {},
   "source": [
    "### 1. Generación del conjunto de datos"
   ]
  },
  {
   "cell_type": "code",
   "execution_count": 1,
   "metadata": {
    "tags": []
   },
   "outputs": [],
   "source": [
    "from sklearn.metrics import accuracy_score, confusion_matrix, precision_score, recall_score, ConfusionMatrixDisplay, classification_report, mean_squared_error, mean_absolute_error, r2_score\n",
    "from sklearn.model_selection import train_test_split, GridSearchCV\n",
    "from sklearn.ensemble import ExtraTreesClassifier\n",
    "from sklearn.ensemble import RandomForestClassifier\n",
    "from sklearn.ensemble import RandomForestRegressor\n",
    "from sklearn.model_selection import RandomizedSearchCV\n",
    "from sklearn.tree import export_graphviz\n",
    "from IPython.display import Image\n",
    "import matplotlib.pyplot as plt\n",
    "from sklearn import metrics\n",
    "from pprint import pprint\n",
    "from scipy import stats\n",
    "import seaborn as sns\n",
    "import pandas as pd\n",
    "%matplotlib inline\n",
    "import numpy as np\n",
    "import pydotplus\n",
    "import graphviz\n",
    "import warnings\n",
    "import itertools\n",
    "#Comparar la distribución de las clases en y_train antes y después del reequilibrio para ver cómo se han ajustado:\n",
    "from collections import Counter\n",
    "from keras.models import Sequential\n",
    "from keras.layers import Dense, Dropout\n",
    "from sklearn.preprocessing import StandardScaler, MaxAbsScaler, MinMaxScaler\n",
    "from keras.regularizers import l1, l2, l1_l2\n",
    "from keras.utils import to_categorical\n",
    "import shap"
   ]
  },
  {
   "cell_type": "code",
   "execution_count": 2,
   "metadata": {
    "tags": []
   },
   "outputs": [],
   "source": [
    "# Leer el dataset winequality\n",
    "df = pd.read_csv('winequality-red.csv')\n",
    "warnings.filterwarnings('ignore')"
   ]
  },
  {
   "cell_type": "code",
   "execution_count": 3,
   "metadata": {
    "tags": []
   },
   "outputs": [
    {
     "name": "stdout",
     "output_type": "stream",
     "text": [
      "<class 'pandas.core.frame.DataFrame'>\n",
      "RangeIndex: 1599 entries, 0 to 1598\n",
      "Data columns (total 12 columns):\n",
      " #   Column                Non-Null Count  Dtype  \n",
      "---  ------                --------------  -----  \n",
      " 0   fixed acidity         1599 non-null   float64\n",
      " 1   volatile acidity      1599 non-null   float64\n",
      " 2   citric acid           1599 non-null   float64\n",
      " 3   residual sugar        1599 non-null   float64\n",
      " 4   chlorides             1599 non-null   float64\n",
      " 5   free sulfur dioxide   1599 non-null   float64\n",
      " 6   total sulfur dioxide  1599 non-null   float64\n",
      " 7   density               1599 non-null   float64\n",
      " 8   pH                    1599 non-null   float64\n",
      " 9   sulphates             1599 non-null   float64\n",
      " 10  alcohol               1599 non-null   object \n",
      " 11  quality               1599 non-null   int64  \n",
      "dtypes: float64(10), int64(1), object(1)\n",
      "memory usage: 150.0+ KB\n"
     ]
    }
   ],
   "source": [
    "# Mostrar información básica sobre el conjunto de datos\n",
    "df.info()"
   ]
  },
  {
   "cell_type": "code",
   "execution_count": 4,
   "metadata": {},
   "outputs": [
    {
     "name": "stdout",
     "output_type": "stream",
     "text": [
      "100.333.333.333.333\n",
      "100.333.333.333.333\n",
      "110.666.666.666.667\n",
      "956.666.666.666.667\n",
      "135.666.666.666.667\n",
      "923.333.333.333.333\n",
      "# densidad incorrecta (>= 2) es: 65\n"
     ]
    }
   ],
   "source": [
    "print(df.loc[1359, 'alcohol'])\n",
    "print(df.loc[1362, 'alcohol'])\n",
    "print(df.loc[1439, 'alcohol'])\n",
    "print(df.loc[1441, 'alcohol'])\n",
    "print(df.loc[1475, 'alcohol'])\n",
    "print(df.loc[1514, 'alcohol'])\n",
    "# Filtrar las filas donde la columna 'density' es mayor que 2\n",
    "incorrect_density = df.loc[df['density'] >= 2].index\n",
    "# Imprimir el número de filas con densidades incorrectas\n",
    "print(f\"# densidad incorrecta (>= 2) es: {len(incorrect_density)}\")"
   ]
  },
  {
   "cell_type": "code",
   "execution_count": 5,
   "metadata": {},
   "outputs": [],
   "source": [
    "incorrect_alcohol = [1359, 1362, 1439, 1441, 1475, 1514]\n",
    "rows_to_drop = incorrect_density.union(incorrect_alcohol)\n",
    "df = df.drop(rows_to_drop)"
   ]
  },
  {
   "cell_type": "code",
   "execution_count": 6,
   "metadata": {},
   "outputs": [],
   "source": [
    "# Selecciona las variables basadas en su relevancia para el proceso de fermentación.\n",
    "df['alcohol'] = df['alcohol'].astype(float)\n",
    "df['residual sugar'] = df['residual sugar'].astype(float)\n",
    "df['density'] = df['density'].astype(float)\n",
    "df['pH'] = df['pH'].astype(float)\n",
    "df['quality'] = df['quality'].astype(int)\n",
    "# Selecciona solo las columnas relevantes para el proceso de fermentación\n",
    "df = df[['alcohol', 'residual sugar', 'density', 'pH', 'quality']]"
   ]
  },
  {
   "cell_type": "code",
   "execution_count": 7,
   "metadata": {
    "tags": []
   },
   "outputs": [
    {
     "data": {
      "text/plain": [
       "alcohol           0\n",
       "residual sugar    0\n",
       "density           0\n",
       "pH                0\n",
       "quality           0\n",
       "dtype: int64"
      ]
     },
     "execution_count": 7,
     "metadata": {},
     "output_type": "execute_result"
    }
   ],
   "source": [
    "# Comprobación de datos, se comprueban que no falten datos en el DataSet\n",
    "df.isnull().sum()"
   ]
  },
  {
   "cell_type": "code",
   "execution_count": 8,
   "metadata": {},
   "outputs": [
    {
     "data": {
      "text/html": [
       "<div>\n",
       "<style scoped>\n",
       "    .dataframe tbody tr th:only-of-type {\n",
       "        vertical-align: middle;\n",
       "    }\n",
       "\n",
       "    .dataframe tbody tr th {\n",
       "        vertical-align: top;\n",
       "    }\n",
       "\n",
       "    .dataframe thead th {\n",
       "        text-align: right;\n",
       "    }\n",
       "</style>\n",
       "<table border=\"1\" class=\"dataframe\">\n",
       "  <thead>\n",
       "    <tr style=\"text-align: right;\">\n",
       "      <th></th>\n",
       "      <th>alcohol</th>\n",
       "      <th>residual sugar</th>\n",
       "      <th>density</th>\n",
       "      <th>pH</th>\n",
       "      <th>quality</th>\n",
       "    </tr>\n",
       "  </thead>\n",
       "  <tbody>\n",
       "    <tr>\n",
       "      <th>0</th>\n",
       "      <td>0.974294</td>\n",
       "      <td>0.469374</td>\n",
       "      <td>0.732730</td>\n",
       "      <td>1.271213</td>\n",
       "      <td>0.784492</td>\n",
       "    </tr>\n",
       "    <tr>\n",
       "      <th>1</th>\n",
       "      <td>0.597104</td>\n",
       "      <td>0.121577</td>\n",
       "      <td>0.139068</td>\n",
       "      <td>0.770175</td>\n",
       "      <td>0.784492</td>\n",
       "    </tr>\n",
       "    <tr>\n",
       "      <th>2</th>\n",
       "      <td>0.597104</td>\n",
       "      <td>0.131688</td>\n",
       "      <td>0.257800</td>\n",
       "      <td>0.375067</td>\n",
       "      <td>0.784492</td>\n",
       "    </tr>\n",
       "    <tr>\n",
       "      <th>3</th>\n",
       "      <td>0.597104</td>\n",
       "      <td>0.469374</td>\n",
       "      <td>0.851462</td>\n",
       "      <td>1.033580</td>\n",
       "      <td>0.452561</td>\n",
       "    </tr>\n",
       "    <tr>\n",
       "      <th>4</th>\n",
       "      <td>0.974294</td>\n",
       "      <td>0.469374</td>\n",
       "      <td>0.732730</td>\n",
       "      <td>1.271213</td>\n",
       "      <td>0.784492</td>\n",
       "    </tr>\n",
       "    <tr>\n",
       "      <th>5</th>\n",
       "      <td>0.974294</td>\n",
       "      <td>0.553796</td>\n",
       "      <td>0.732730</td>\n",
       "      <td>1.271213</td>\n",
       "      <td>0.784492</td>\n",
       "    </tr>\n",
       "    <tr>\n",
       "      <th>6</th>\n",
       "      <td>0.974294</td>\n",
       "      <td>0.722639</td>\n",
       "      <td>0.098397</td>\n",
       "      <td>0.111663</td>\n",
       "      <td>0.784492</td>\n",
       "    </tr>\n",
       "    <tr>\n",
       "      <th>7</th>\n",
       "      <td>0.408509</td>\n",
       "      <td>1.060325</td>\n",
       "      <td>1.166989</td>\n",
       "      <td>0.480998</td>\n",
       "      <td>1.689614</td>\n",
       "    </tr>\n",
       "    <tr>\n",
       "      <th>8</th>\n",
       "      <td>0.879996</td>\n",
       "      <td>0.384953</td>\n",
       "      <td>0.139068</td>\n",
       "      <td>0.283445</td>\n",
       "      <td>1.689614</td>\n",
       "    </tr>\n",
       "    <tr>\n",
       "      <th>9</th>\n",
       "      <td>0.062978</td>\n",
       "      <td>3.076333</td>\n",
       "      <td>0.732730</td>\n",
       "      <td>0.217593</td>\n",
       "      <td>0.784492</td>\n",
       "    </tr>\n",
       "  </tbody>\n",
       "</table>\n",
       "</div>"
      ],
      "text/plain": [
       "    alcohol  residual sugar   density        pH   quality\n",
       "0  0.974294        0.469374  0.732730  1.271213  0.784492\n",
       "1  0.597104        0.121577  0.139068  0.770175  0.784492\n",
       "2  0.597104        0.131688  0.257800  0.375067  0.784492\n",
       "3  0.597104        0.469374  0.851462  1.033580  0.452561\n",
       "4  0.974294        0.469374  0.732730  1.271213  0.784492\n",
       "5  0.974294        0.553796  0.732730  1.271213  0.784492\n",
       "6  0.974294        0.722639  0.098397  0.111663  0.784492\n",
       "7  0.408509        1.060325  1.166989  0.480998  1.689614\n",
       "8  0.879996        0.384953  0.139068  0.283445  1.689614\n",
       "9  0.062978        3.076333  0.732730  0.217593  0.784492"
      ]
     },
     "execution_count": 8,
     "metadata": {},
     "output_type": "execute_result"
    }
   ],
   "source": [
    "# Calcula los valores absolutos de los z-scores de cada valor en el DataFrame\n",
    "z = np.abs(stats.zscore(df))\n",
    "z.head(10)"
   ]
  },
  {
   "cell_type": "code",
   "execution_count": 9,
   "metadata": {},
   "outputs": [
    {
     "data": {
      "text/plain": [
       "(array([   9,   11,   33,   45,   95,  142,  144,  151,  163,  164,  271,\n",
       "         275,  340,  359,  374,  378,  391,  439,  463,  469,  470,  483,\n",
       "         485,  506,  541,  547,  596,  599,  599,  635,  640,  761,  772,\n",
       "         776,  777,  838,  850,  856,  862,  956,  957,  977,  982, 1010,\n",
       "        1013, 1016, 1017, 1018, 1020, 1050, 1053, 1065, 1086, 1125, 1174,\n",
       "        1183, 1208, 1208, 1209, 1209, 1215, 1238, 1239, 1255, 1260, 1311,\n",
       "        1325, 1402, 1408, 1435, 1487, 1503, 1518], dtype=int64),\n",
       " array([1, 1, 1, 3, 3, 0, 0, 3, 1, 1, 1, 1, 2, 1, 1, 1, 1, 0, 1, 1, 1, 1,\n",
       "        4, 1, 0, 1, 1, 0, 1, 4, 3, 0, 4, 2, 2, 4, 1, 1, 1, 2, 2, 1, 1, 1,\n",
       "        1, 1, 1, 1, 1, 3, 2, 2, 1, 1, 1, 1, 0, 2, 0, 2, 1, 4, 3, 3, 3, 4,\n",
       "        1, 4, 4, 4, 1, 1, 1], dtype=int64))"
      ]
     },
     "execution_count": 9,
     "metadata": {},
     "output_type": "execute_result"
    }
   ],
   "source": [
    "# Eliminación de valores atípicos basada en puntuación Z\n",
    "threshold = 3\n",
    "np.where(z > 3)"
   ]
  },
  {
   "cell_type": "code",
   "execution_count": 10,
   "metadata": {},
   "outputs": [
    {
     "name": "stdout",
     "output_type": "stream",
     "text": [
      "Antiguo Shape:  (1528, 5)\n",
      "Nuevo Shape:  (1458, 5)\n"
     ]
    }
   ],
   "source": [
    "df_o = df[(z < 3).all(axis = 1)]\n",
    "print(\"Antiguo Shape: \", df.shape)\n",
    "print(\"Nuevo Shape: \", df_o.shape)"
   ]
  },
  {
   "cell_type": "markdown",
   "metadata": {},
   "source": [
    "### 2. Visualización del conjunto de datos"
   ]
  },
  {
   "cell_type": "code",
   "execution_count": 11,
   "metadata": {},
   "outputs": [
    {
     "data": {
      "text/html": [
       "<div>\n",
       "<style scoped>\n",
       "    .dataframe tbody tr th:only-of-type {\n",
       "        vertical-align: middle;\n",
       "    }\n",
       "\n",
       "    .dataframe tbody tr th {\n",
       "        vertical-align: top;\n",
       "    }\n",
       "\n",
       "    .dataframe thead th {\n",
       "        text-align: right;\n",
       "    }\n",
       "</style>\n",
       "<table border=\"1\" class=\"dataframe\">\n",
       "  <thead>\n",
       "    <tr style=\"text-align: right;\">\n",
       "      <th></th>\n",
       "      <th>alcohol</th>\n",
       "      <th>residual sugar</th>\n",
       "      <th>density</th>\n",
       "      <th>pH</th>\n",
       "      <th>quality</th>\n",
       "    </tr>\n",
       "  </thead>\n",
       "  <tbody>\n",
       "    <tr>\n",
       "      <th>0</th>\n",
       "      <td>9.4</td>\n",
       "      <td>1.9</td>\n",
       "      <td>0.9978</td>\n",
       "      <td>3.51</td>\n",
       "      <td>5</td>\n",
       "    </tr>\n",
       "    <tr>\n",
       "      <th>1</th>\n",
       "      <td>9.8</td>\n",
       "      <td>2.6</td>\n",
       "      <td>0.9968</td>\n",
       "      <td>3.20</td>\n",
       "      <td>5</td>\n",
       "    </tr>\n",
       "    <tr>\n",
       "      <th>2</th>\n",
       "      <td>9.8</td>\n",
       "      <td>2.3</td>\n",
       "      <td>0.9970</td>\n",
       "      <td>3.26</td>\n",
       "      <td>5</td>\n",
       "    </tr>\n",
       "    <tr>\n",
       "      <th>3</th>\n",
       "      <td>9.8</td>\n",
       "      <td>1.9</td>\n",
       "      <td>0.9980</td>\n",
       "      <td>3.16</td>\n",
       "      <td>6</td>\n",
       "    </tr>\n",
       "    <tr>\n",
       "      <th>4</th>\n",
       "      <td>9.4</td>\n",
       "      <td>1.9</td>\n",
       "      <td>0.9978</td>\n",
       "      <td>3.51</td>\n",
       "      <td>5</td>\n",
       "    </tr>\n",
       "    <tr>\n",
       "      <th>5</th>\n",
       "      <td>9.4</td>\n",
       "      <td>1.8</td>\n",
       "      <td>0.9978</td>\n",
       "      <td>3.51</td>\n",
       "      <td>5</td>\n",
       "    </tr>\n",
       "    <tr>\n",
       "      <th>6</th>\n",
       "      <td>9.4</td>\n",
       "      <td>1.6</td>\n",
       "      <td>0.9964</td>\n",
       "      <td>3.30</td>\n",
       "      <td>5</td>\n",
       "    </tr>\n",
       "    <tr>\n",
       "      <th>7</th>\n",
       "      <td>10.0</td>\n",
       "      <td>1.2</td>\n",
       "      <td>0.9946</td>\n",
       "      <td>3.39</td>\n",
       "      <td>7</td>\n",
       "    </tr>\n",
       "    <tr>\n",
       "      <th>8</th>\n",
       "      <td>9.5</td>\n",
       "      <td>2.0</td>\n",
       "      <td>0.9968</td>\n",
       "      <td>3.36</td>\n",
       "      <td>7</td>\n",
       "    </tr>\n",
       "    <tr>\n",
       "      <th>10</th>\n",
       "      <td>9.2</td>\n",
       "      <td>1.8</td>\n",
       "      <td>0.9959</td>\n",
       "      <td>3.28</td>\n",
       "      <td>5</td>\n",
       "    </tr>\n",
       "  </tbody>\n",
       "</table>\n",
       "</div>"
      ],
      "text/plain": [
       "    alcohol  residual sugar  density    pH  quality\n",
       "0       9.4             1.9   0.9978  3.51        5\n",
       "1       9.8             2.6   0.9968  3.20        5\n",
       "2       9.8             2.3   0.9970  3.26        5\n",
       "3       9.8             1.9   0.9980  3.16        6\n",
       "4       9.4             1.9   0.9978  3.51        5\n",
       "5       9.4             1.8   0.9978  3.51        5\n",
       "6       9.4             1.6   0.9964  3.30        5\n",
       "7      10.0             1.2   0.9946  3.39        7\n",
       "8       9.5             2.0   0.9968  3.36        7\n",
       "10      9.2             1.8   0.9959  3.28        5"
      ]
     },
     "execution_count": 11,
     "metadata": {},
     "output_type": "execute_result"
    }
   ],
   "source": [
    "df_o.head(10)"
   ]
  },
  {
   "cell_type": "code",
   "execution_count": 12,
   "metadata": {
    "tags": []
   },
   "outputs": [
    {
     "data": {
      "text/html": [
       "<div>\n",
       "<style scoped>\n",
       "    .dataframe tbody tr th:only-of-type {\n",
       "        vertical-align: middle;\n",
       "    }\n",
       "\n",
       "    .dataframe tbody tr th {\n",
       "        vertical-align: top;\n",
       "    }\n",
       "\n",
       "    .dataframe thead th {\n",
       "        text-align: right;\n",
       "    }\n",
       "</style>\n",
       "<table border=\"1\" class=\"dataframe\">\n",
       "  <thead>\n",
       "    <tr style=\"text-align: right;\">\n",
       "      <th></th>\n",
       "      <th>alcohol</th>\n",
       "      <th>residual sugar</th>\n",
       "      <th>density</th>\n",
       "      <th>pH</th>\n",
       "      <th>quality</th>\n",
       "    </tr>\n",
       "  </thead>\n",
       "  <tbody>\n",
       "    <tr>\n",
       "      <th>count</th>\n",
       "      <td>1458.000000</td>\n",
       "      <td>1458.000000</td>\n",
       "      <td>1458.000000</td>\n",
       "      <td>1458.000000</td>\n",
       "      <td>1458.000000</td>\n",
       "    </tr>\n",
       "    <tr>\n",
       "      <th>mean</th>\n",
       "      <td>10.386008</td>\n",
       "      <td>2.317936</td>\n",
       "      <td>0.996597</td>\n",
       "      <td>3.314143</td>\n",
       "      <td>5.640604</td>\n",
       "    </tr>\n",
       "    <tr>\n",
       "      <th>std</th>\n",
       "      <td>1.004771</td>\n",
       "      <td>0.743089</td>\n",
       "      <td>0.001580</td>\n",
       "      <td>0.144578</td>\n",
       "      <td>0.775250</td>\n",
       "    </tr>\n",
       "    <tr>\n",
       "      <th>min</th>\n",
       "      <td>8.500000</td>\n",
       "      <td>1.200000</td>\n",
       "      <td>0.991570</td>\n",
       "      <td>2.870000</td>\n",
       "      <td>4.000000</td>\n",
       "    </tr>\n",
       "    <tr>\n",
       "      <th>25%</th>\n",
       "      <td>9.500000</td>\n",
       "      <td>1.900000</td>\n",
       "      <td>0.995600</td>\n",
       "      <td>3.220000</td>\n",
       "      <td>5.000000</td>\n",
       "    </tr>\n",
       "    <tr>\n",
       "      <th>50%</th>\n",
       "      <td>10.100000</td>\n",
       "      <td>2.200000</td>\n",
       "      <td>0.996625</td>\n",
       "      <td>3.310000</td>\n",
       "      <td>6.000000</td>\n",
       "    </tr>\n",
       "    <tr>\n",
       "      <th>75%</th>\n",
       "      <td>11.000000</td>\n",
       "      <td>2.500000</td>\n",
       "      <td>0.997600</td>\n",
       "      <td>3.400000</td>\n",
       "      <td>6.000000</td>\n",
       "    </tr>\n",
       "    <tr>\n",
       "      <th>max</th>\n",
       "      <td>13.600000</td>\n",
       "      <td>6.000000</td>\n",
       "      <td>1.001000</td>\n",
       "      <td>3.750000</td>\n",
       "      <td>8.000000</td>\n",
       "    </tr>\n",
       "  </tbody>\n",
       "</table>\n",
       "</div>"
      ],
      "text/plain": [
       "           alcohol  residual sugar      density           pH      quality\n",
       "count  1458.000000     1458.000000  1458.000000  1458.000000  1458.000000\n",
       "mean     10.386008        2.317936     0.996597     3.314143     5.640604\n",
       "std       1.004771        0.743089     0.001580     0.144578     0.775250\n",
       "min       8.500000        1.200000     0.991570     2.870000     4.000000\n",
       "25%       9.500000        1.900000     0.995600     3.220000     5.000000\n",
       "50%      10.100000        2.200000     0.996625     3.310000     6.000000\n",
       "75%      11.000000        2.500000     0.997600     3.400000     6.000000\n",
       "max      13.600000        6.000000     1.001000     3.750000     8.000000"
      ]
     },
     "execution_count": 12,
     "metadata": {},
     "output_type": "execute_result"
    }
   ],
   "source": [
    "# Mostrar información estadística sobre el conjunto de datos\n",
    "df_o.describe()"
   ]
  },
  {
   "cell_type": "code",
   "execution_count": 51,
   "metadata": {},
   "outputs": [
    {
     "data": {
      "text/html": [
       "<div>\n",
       "<style scoped>\n",
       "    .dataframe tbody tr th:only-of-type {\n",
       "        vertical-align: middle;\n",
       "    }\n",
       "\n",
       "    .dataframe tbody tr th {\n",
       "        vertical-align: top;\n",
       "    }\n",
       "\n",
       "    .dataframe thead th {\n",
       "        text-align: right;\n",
       "    }\n",
       "</style>\n",
       "<table border=\"1\" class=\"dataframe\">\n",
       "  <thead>\n",
       "    <tr style=\"text-align: right;\">\n",
       "      <th></th>\n",
       "      <th>alcohol</th>\n",
       "      <th>residual sugar</th>\n",
       "      <th>density</th>\n",
       "      <th>pH</th>\n",
       "      <th>quality</th>\n",
       "    </tr>\n",
       "  </thead>\n",
       "  <tbody>\n",
       "    <tr>\n",
       "      <th>count</th>\n",
       "      <td>15.000000</td>\n",
       "      <td>15.000000</td>\n",
       "      <td>15.000000</td>\n",
       "      <td>15.000000</td>\n",
       "      <td>15.0</td>\n",
       "    </tr>\n",
       "    <tr>\n",
       "      <th>mean</th>\n",
       "      <td>11.806667</td>\n",
       "      <td>2.413333</td>\n",
       "      <td>0.995581</td>\n",
       "      <td>3.224000</td>\n",
       "      <td>8.0</td>\n",
       "    </tr>\n",
       "    <tr>\n",
       "      <th>std</th>\n",
       "      <td>1.092485</td>\n",
       "      <td>0.947076</td>\n",
       "      <td>0.002011</td>\n",
       "      <td>0.168133</td>\n",
       "      <td>0.0</td>\n",
       "    </tr>\n",
       "    <tr>\n",
       "      <th>min</th>\n",
       "      <td>9.800000</td>\n",
       "      <td>1.400000</td>\n",
       "      <td>0.992350</td>\n",
       "      <td>2.880000</td>\n",
       "      <td>8.0</td>\n",
       "    </tr>\n",
       "    <tr>\n",
       "      <th>25%</th>\n",
       "      <td>11.150000</td>\n",
       "      <td>1.800000</td>\n",
       "      <td>0.994350</td>\n",
       "      <td>3.150000</td>\n",
       "      <td>8.0</td>\n",
       "    </tr>\n",
       "    <tr>\n",
       "      <th>50%</th>\n",
       "      <td>11.700000</td>\n",
       "      <td>2.200000</td>\n",
       "      <td>0.995160</td>\n",
       "      <td>3.220000</td>\n",
       "      <td>8.0</td>\n",
       "    </tr>\n",
       "    <tr>\n",
       "      <th>75%</th>\n",
       "      <td>12.750000</td>\n",
       "      <td>2.600000</td>\n",
       "      <td>0.997200</td>\n",
       "      <td>3.295000</td>\n",
       "      <td>8.0</td>\n",
       "    </tr>\n",
       "    <tr>\n",
       "      <th>max</th>\n",
       "      <td>13.400000</td>\n",
       "      <td>5.200000</td>\n",
       "      <td>0.998800</td>\n",
       "      <td>3.560000</td>\n",
       "      <td>8.0</td>\n",
       "    </tr>\n",
       "  </tbody>\n",
       "</table>\n",
       "</div>"
      ],
      "text/plain": [
       "         alcohol  residual sugar    density         pH  quality\n",
       "count  15.000000       15.000000  15.000000  15.000000     15.0\n",
       "mean   11.806667        2.413333   0.995581   3.224000      8.0\n",
       "std     1.092485        0.947076   0.002011   0.168133      0.0\n",
       "min     9.800000        1.400000   0.992350   2.880000      8.0\n",
       "25%    11.150000        1.800000   0.994350   3.150000      8.0\n",
       "50%    11.700000        2.200000   0.995160   3.220000      8.0\n",
       "75%    12.750000        2.600000   0.997200   3.295000      8.0\n",
       "max    13.400000        5.200000   0.998800   3.560000      8.0"
      ]
     },
     "execution_count": 51,
     "metadata": {},
     "output_type": "execute_result"
    }
   ],
   "source": [
    "df_o[df_o['quality'] == 8].describe()"
   ]
  },
  {
   "cell_type": "code",
   "execution_count": 13,
   "metadata": {
    "tags": []
   },
   "outputs": [
    {
     "data": {
      "text/plain": [
       "5    635\n",
       "6    583\n",
       "7    177\n",
       "4     48\n",
       "8     15\n",
       "Name: quality, dtype: int64"
      ]
     },
     "execution_count": 13,
     "metadata": {},
     "output_type": "execute_result"
    }
   ],
   "source": [
    "df_o['quality'].value_counts()"
   ]
  },
  {
   "cell_type": "markdown",
   "metadata": {},
   "source": [
    "El análisis de la distribución de las clases en el conjunto de datos revela un significativo desbalance. \n",
    "Este desbalance es evidente, ya que algunas clases, como la 5 y la 6, tienen una representación mucho mayor en comparación con otras clases, como la 3 y la 8, que están considerablemente subrepresentadas. Esta disparidad en la cantidad de registros entre las diferentes clases puede afectar la eficacia de los modelos de aprendizaje automático, que pueden verse sesgados hacia las clases mayoritarias."
   ]
  },
  {
   "cell_type": "code",
   "execution_count": 14,
   "metadata": {},
   "outputs": [
    {
     "data": {
      "image/png": "[encoded data removed]",
      "text/plain": [
       "<Figure size 2000x1500 with 6 Axes>"
      ]
     },
     "metadata": {},
     "output_type": "display_data"
    }
   ],
   "source": [
    "# Representar gráficamente la distribución de los atributos\n",
    "df_o.hist(bins = 50, figsize = (20, 15))\n",
    "plt.show()"
   ]
  },
  {
   "cell_type": "code",
   "execution_count": 15,
   "metadata": {},
   "outputs": [
    {
     "name": "stdout",
     "output_type": "stream",
     "text": [
      "Longitud del conjunto de datos: 1458\n",
      "Número de características del conjunto de datos: 5\n"
     ]
    }
   ],
   "source": [
    "print(\"Longitud del conjunto de datos:\", len(df_o))\n",
    "print(\"Número de características del conjunto de datos:\", len(df_o.columns))"
   ]
  },
  {
   "cell_type": "code",
   "execution_count": 16,
   "metadata": {},
   "outputs": [
    {
     "name": "stderr",
     "output_type": "stream",
     "text": [
      "No artists with labels found to put in legend.  Note that artists whose label start with an underscore are ignored when legend() is called with no argument.\n"
     ]
    },
    {
     "data": {
      "image/png": "[encoded data removed]",
      "text/plain": [
       "<Figure size 640x480 with 1 Axes>"
      ]
     },
     "metadata": {},
     "output_type": "display_data"
    }
   ],
   "source": [
    "plt.bar(df_o['quality'], df_o['alcohol'])\n",
    "plt.title('Relationship between alcohol and quality')\n",
    "plt.xlabel('quality')\n",
    "plt.ylabel('alcohol')\n",
    "plt.legend()\n",
    "plt.show()"
   ]
  },
  {
   "cell_type": "code",
   "execution_count": 17,
   "metadata": {},
   "outputs": [
    {
     "data": {
      "image/png": "[encoded data removed]",
      "text/plain": [
       "<Figure size 640x480 with 2 Axes>"
      ]
     },
     "metadata": {},
     "output_type": "display_data"
    }
   ],
   "source": [
    "from sklearn.preprocessing import LabelEncoder, StandardScaler\n",
    "\n",
    "# Hacemos una matriz de correlacion\n",
    "df.corr()\n",
    "nombre_columnas = ['residual sugar', 'density', 'pH', 'alcohol']\n",
    "sns.heatmap(df_o[nombre_columnas].corr(), vmin=-1.0, vmax=1.0, annot=True, cmap=\"PiYG_r\")\n",
    "pass"
   ]
  },
  {
   "cell_type": "markdown",
   "metadata": {},
   "source": [
    "### 4. Construcción del modelo"
   ]
  },
  {
   "cell_type": "code",
   "execution_count": 18,
   "metadata": {},
   "outputs": [
    {
     "data": {
      "text/html": [
       "<div>\n",
       "<style scoped>\n",
       "    .dataframe tbody tr th:only-of-type {\n",
       "        vertical-align: middle;\n",
       "    }\n",
       "\n",
       "    .dataframe tbody tr th {\n",
       "        vertical-align: top;\n",
       "    }\n",
       "\n",
       "    .dataframe thead th {\n",
       "        text-align: right;\n",
       "    }\n",
       "</style>\n",
       "<table border=\"1\" class=\"dataframe\">\n",
       "  <thead>\n",
       "    <tr style=\"text-align: right;\">\n",
       "      <th></th>\n",
       "      <th>alcohol</th>\n",
       "      <th>residual sugar</th>\n",
       "      <th>density</th>\n",
       "      <th>pH</th>\n",
       "    </tr>\n",
       "  </thead>\n",
       "  <tbody>\n",
       "    <tr>\n",
       "      <th>0</th>\n",
       "      <td>9.4</td>\n",
       "      <td>1.9</td>\n",
       "      <td>0.9978</td>\n",
       "      <td>3.51</td>\n",
       "    </tr>\n",
       "    <tr>\n",
       "      <th>1</th>\n",
       "      <td>9.8</td>\n",
       "      <td>2.6</td>\n",
       "      <td>0.9968</td>\n",
       "      <td>3.20</td>\n",
       "    </tr>\n",
       "    <tr>\n",
       "      <th>2</th>\n",
       "      <td>9.8</td>\n",
       "      <td>2.3</td>\n",
       "      <td>0.9970</td>\n",
       "      <td>3.26</td>\n",
       "    </tr>\n",
       "    <tr>\n",
       "      <th>3</th>\n",
       "      <td>9.8</td>\n",
       "      <td>1.9</td>\n",
       "      <td>0.9980</td>\n",
       "      <td>3.16</td>\n",
       "    </tr>\n",
       "    <tr>\n",
       "      <th>4</th>\n",
       "      <td>9.4</td>\n",
       "      <td>1.9</td>\n",
       "      <td>0.9978</td>\n",
       "      <td>3.51</td>\n",
       "    </tr>\n",
       "    <tr>\n",
       "      <th>5</th>\n",
       "      <td>9.4</td>\n",
       "      <td>1.8</td>\n",
       "      <td>0.9978</td>\n",
       "      <td>3.51</td>\n",
       "    </tr>\n",
       "    <tr>\n",
       "      <th>6</th>\n",
       "      <td>9.4</td>\n",
       "      <td>1.6</td>\n",
       "      <td>0.9964</td>\n",
       "      <td>3.30</td>\n",
       "    </tr>\n",
       "    <tr>\n",
       "      <th>7</th>\n",
       "      <td>10.0</td>\n",
       "      <td>1.2</td>\n",
       "      <td>0.9946</td>\n",
       "      <td>3.39</td>\n",
       "    </tr>\n",
       "    <tr>\n",
       "      <th>8</th>\n",
       "      <td>9.5</td>\n",
       "      <td>2.0</td>\n",
       "      <td>0.9968</td>\n",
       "      <td>3.36</td>\n",
       "    </tr>\n",
       "    <tr>\n",
       "      <th>10</th>\n",
       "      <td>9.2</td>\n",
       "      <td>1.8</td>\n",
       "      <td>0.9959</td>\n",
       "      <td>3.28</td>\n",
       "    </tr>\n",
       "  </tbody>\n",
       "</table>\n",
       "</div>"
      ],
      "text/plain": [
       "    alcohol  residual sugar  density    pH\n",
       "0       9.4             1.9   0.9978  3.51\n",
       "1       9.8             2.6   0.9968  3.20\n",
       "2       9.8             2.3   0.9970  3.26\n",
       "3       9.8             1.9   0.9980  3.16\n",
       "4       9.4             1.9   0.9978  3.51\n",
       "5       9.4             1.8   0.9978  3.51\n",
       "6       9.4             1.6   0.9964  3.30\n",
       "7      10.0             1.2   0.9946  3.39\n",
       "8       9.5             2.0   0.9968  3.36\n",
       "10      9.2             1.8   0.9959  3.28"
      ]
     },
     "execution_count": 18,
     "metadata": {},
     "output_type": "execute_result"
    }
   ],
   "source": [
    "# División de los datos en conjuntos de entrenamiento y prueba.\n",
    "X = df_o.drop(columns = 'quality', axis = 1)\n",
    "y = df_o['quality']\n",
    "X.head(10)"
   ]
  },
  {
   "cell_type": "code",
   "execution_count": 19,
   "metadata": {},
   "outputs": [],
   "source": [
    "from sklearn.preprocessing import StandardScaler\n",
    "Scaler_X = StandardScaler()\n",
    "X_scaled = Scaler_X.fit_transform(X)"
   ]
  },
  {
   "cell_type": "code",
   "execution_count": 20,
   "metadata": {},
   "outputs": [],
   "source": [
    "# Dividiendo los datos en entrenamiento y prueba\n",
    "X_train, X_test, y_train, y_test = train_test_split(X_scaled, y, test_size = 0.2, random_state = 42)"
   ]
  },
  {
   "cell_type": "code",
   "execution_count": 21,
   "metadata": {},
   "outputs": [
    {
     "name": "stdout",
     "output_type": "stream",
     "text": [
      "Tamaño original de X_train: (1166, 4)\n",
      "Distribución original de clases en y_train: Counter({5: 504, 6: 467, 7: 141, 4: 42, 8: 12})\n"
     ]
    }
   ],
   "source": [
    "print(f\"Tamaño original de X_train: {X_train.shape}\")\n",
    "print(f\"Distribución original de clases en y_train: {Counter(y_train)}\")"
   ]
  },
  {
   "cell_type": "markdown",
   "metadata": {},
   "source": [
    "### 5. Evaluacion"
   ]
  },
  {
   "cell_type": "code",
   "execution_count": 22,
   "metadata": {},
   "outputs": [],
   "source": [
    "from sklearn.metrics import recall_score, precision_score, f1_score\n",
    "from sklearn.model_selection import cross_val_score\n",
    "\n",
    "def evaluate(model, X_train, y_train, X_test, y_test):\n",
    "    y_pred = model.predict(X_test)\n",
    "    # Mostrar las primeras 10 predicciones\n",
    "    accuracy = metrics.accuracy_score(y_test, y_pred)\n",
    "    print(\"Primeras 10 predicciones:\", y_pred[:10])\n",
    "    # Calcular y mostrar la precisión (accuracy)\n",
    "    print('Precisión (Accuracy) = {:0.3f}%.'.format(100 * accuracy))\n",
    "    # Validación cruzada en el conjunto de entrenamiento\n",
    "    cross_validation = cross_val_score(model,X_train,y_train,cv=10)\n",
    "    print('Puntuación media de la validación cruzada: {:.4f}%'.format(100 * np.mean(cross_validation)))\n",
    "    # Calcular y mostrar las métricas de evaluación\n",
    "    recall = recall_score(y_test, y_pred, average='weighted')\n",
    "    precision = precision_score(y_test, y_pred, average='weighted')\n",
    "    f1 = f1_score(y_test, y_pred, average='weighted')\n",
    "    print(\"Puntuación de Recall:\", recall)\n",
    "    print(\"Puntuación de Precisión:\", precision)\n",
    "    print(\"Puntuación F1:\", f1)\n",
    "    # Imprimir informe de clasificación\n",
    "    print(\"Informe de Clasificación\")\n",
    "    print(classification_report(y_test, y_pred))\n",
    "    # Matriz de confusión\n",
    "    conf_matrix = confusion_matrix(y_test, y_pred)\n",
    "    print('Confusion Matrix')\n",
    "    # class_names = ['fixed acidity', 'volatile acidity', 'citric acid', 'residual sugar', 'chlorides','free sulfur dioxide', 'total sulfur dioxide', 'density', 'pH', 'sulphates', 'alcohol']\n",
    "    # disp = ConfusionMatrixDisplay(confusion_matrix = conf_matrix, display_labels = class_names)\n",
    "    disp = ConfusionMatrixDisplay(confusion_matrix = conf_matrix)\n",
    "    fig, ax = plt.subplots(figsize = (5, 5))\n",
    "    disp = disp.plot(xticks_rotation = 'vertical', ax = ax, colorbar = False)\n",
    "    plt.show()\n",
    "    return accuracy\n"
   ]
  },
  {
   "cell_type": "markdown",
   "metadata": {},
   "source": [
    "## El método de RandomizedSearchCV \n",
    "Permite la búsqueda aleatoria de hiperparámetros dentro de un rango especificado"
   ]
  },
  {
   "cell_type": "code",
   "execution_count": 23,
   "metadata": {
    "tags": []
   },
   "outputs": [
    {
     "name": "stdout",
     "output_type": "stream",
     "text": [
      "{'bootstrap': [True, False],\n",
      " 'max_depth': [2, 4, 6, 8, 10, 12, 14, None],\n",
      " 'max_features': ['auto', 'sqrt'],\n",
      " 'min_samples_leaf': [1, 2, 4, 10, 30],\n",
      " 'min_samples_split': [2, 5, 10, 50, 100],\n",
      " 'n_estimators': [200, 400, 600, 800, 1000, 1200, 1400, 1600, 1800, 2000]}\n"
     ]
    }
   ],
   "source": [
    "# Número de árboles en el bosque aleatorio\n",
    "n_estimators = [int(x) for x in np.linspace(start = 200, stop = 2000, num = 10)]\n",
    "# Número de características a considerar en cada división\n",
    "max_features = ['auto', 'sqrt']\n",
    "# Número máximo de niveles en el árbol.\n",
    "max_depth = [int(x) for x in np.linspace(2, 14, num = 7)]\n",
    "max_depth.append(None)\n",
    "# Número mínimo de muestras necesarias para dividir un nodo\n",
    "min_samples_split = [2, 5, 10, 50, 100]\n",
    "# Número mínimo de muestras requeridas en cada nodo de hoja\n",
    "min_samples_leaf = [1, 2, 4, 10, 30]\n",
    "# Método de selección de muestras para entrenar cada árbol.\n",
    "bootstrap = [True, False]\n",
    "# Crea la cuadrícula aleatoria\n",
    "random_grid = {'n_estimators': n_estimators,\n",
    "               'max_features': max_features,\n",
    "               'max_depth': max_depth,\n",
    "               'min_samples_split': min_samples_split,\n",
    "               'min_samples_leaf': min_samples_leaf,\n",
    "               'bootstrap': bootstrap}\n",
    "pprint(random_grid)"
   ]
  },
  {
   "cell_type": "markdown",
   "metadata": {},
   "source": [
    "## Entrenamiento Random Forest para Clasificación"
   ]
  },
  {
   "cell_type": "code",
   "execution_count": 24,
   "metadata": {},
   "outputs": [
    {
     "name": "stdout",
     "output_type": "stream",
     "text": [
      "Fitting 3 folds for each of 100 candidates, totalling 300 fits\n"
     ]
    },
    {
     "data": {
      "text/html": [
       "<style>#sk-container-id-1 {color: black;background-color: white;}#sk-container-id-1 pre{padding: 0;}#sk-container-id-1 div.sk-toggleable {background-color: white;}#sk-container-id-1 label.sk-toggleable__label {cursor: pointer;display: block;width: 100%;margin-bottom: 0;padding: 0.3em;box-sizing: border-box;text-align: center;}#sk-container-id-1 label.sk-toggleable__label-arrow:before {content: \"▸\";float: left;margin-right: 0.25em;color: #696969;}#sk-container-id-1 label.sk-toggleable__label-arrow:hover:before {color: black;}#sk-container-id-1 div.sk-estimator:hover label.sk-toggleable__label-arrow:before {color: black;}#sk-container-id-1 div.sk-toggleable__content {max-height: 0;max-width: 0;overflow: hidden;text-align: left;background-color: #f0f8ff;}#sk-container-id-1 div.sk-toggleable__content pre {margin: 0.2em;color: black;border-radius: 0.25em;background-color: #f0f8ff;}#sk-container-id-1 input.sk-toggleable__control:checked~div.sk-toggleable__content {max-height: 200px;max-width: 100%;overflow: auto;}#sk-container-id-1 input.sk-toggleable__control:checked~label.sk-toggleable__label-arrow:before {content: \"▾\";}#sk-container-id-1 div.sk-estimator input.sk-toggleable__control:checked~label.sk-toggleable__label {background-color: #d4ebff;}#sk-container-id-1 div.sk-label input.sk-toggleable__control:checked~label.sk-toggleable__label {background-color: #d4ebff;}#sk-container-id-1 input.sk-hidden--visually {border: 0;clip: rect(1px 1px 1px 1px);clip: rect(1px, 1px, 1px, 1px);height: 1px;margin: -1px;overflow: hidden;padding: 0;position: absolute;width: 1px;}#sk-container-id-1 div.sk-estimator {font-family: monospace;background-color: #f0f8ff;border: 1px dotted black;border-radius: 0.25em;box-sizing: border-box;margin-bottom: 0.5em;}#sk-container-id-1 div.sk-estimator:hover {background-color: #d4ebff;}#sk-container-id-1 div.sk-parallel-item::after {content: \"\";width: 100%;border-bottom: 1px solid gray;flex-grow: 1;}#sk-container-id-1 div.sk-label:hover label.sk-toggleable__label {background-color: #d4ebff;}#sk-container-id-1 div.sk-serial::before {content: \"\";position: absolute;border-left: 1px solid gray;box-sizing: border-box;top: 0;bottom: 0;left: 50%;z-index: 0;}#sk-container-id-1 div.sk-serial {display: flex;flex-direction: column;align-items: center;background-color: white;padding-right: 0.2em;padding-left: 0.2em;position: relative;}#sk-container-id-1 div.sk-item {position: relative;z-index: 1;}#sk-container-id-1 div.sk-parallel {display: flex;align-items: stretch;justify-content: center;background-color: white;position: relative;}#sk-container-id-1 div.sk-item::before, #sk-container-id-1 div.sk-parallel-item::before {content: \"\";position: absolute;border-left: 1px solid gray;box-sizing: border-box;top: 0;bottom: 0;left: 50%;z-index: -1;}#sk-container-id-1 div.sk-parallel-item {display: flex;flex-direction: column;z-index: 1;position: relative;background-color: white;}#sk-container-id-1 div.sk-parallel-item:first-child::after {align-self: flex-end;width: 50%;}#sk-container-id-1 div.sk-parallel-item:last-child::after {align-self: flex-start;width: 50%;}#sk-container-id-1 div.sk-parallel-item:only-child::after {width: 0;}#sk-container-id-1 div.sk-dashed-wrapped {border: 1px dashed gray;margin: 0 0.4em 0.5em 0.4em;box-sizing: border-box;padding-bottom: 0.4em;background-color: white;}#sk-container-id-1 div.sk-label label {font-family: monospace;font-weight: bold;display: inline-block;line-height: 1.2em;}#sk-container-id-1 div.sk-label-container {text-align: center;}#sk-container-id-1 div.sk-container {/* jupyter's `normalize.less` sets `[hidden] { display: none; }` but bootstrap.min.css set `[hidden] { display: none !important; }` so we also need the `!important` here to be able to override the default hidden behavior on the sphinx rendered scikit-learn.org. See: https://github.com/scikit-learn/scikit-learn/issues/21755 */display: inline-block !important;position: relative;}#sk-container-id-1 div.sk-text-repr-fallback {display: none;}</style><div id=\"sk-container-id-1\" class=\"sk-top-container\"><div class=\"sk-text-repr-fallback\"><pre>RandomizedSearchCV(cv=3, estimator=RandomForestClassifier(), n_iter=100,\n",
       "                   n_jobs=-1,\n",
       "                   param_distributions={&#x27;bootstrap&#x27;: [True, False],\n",
       "                                        &#x27;max_depth&#x27;: [2, 4, 6, 8, 10, 12, 14,\n",
       "                                                      None],\n",
       "                                        &#x27;max_features&#x27;: [&#x27;auto&#x27;, &#x27;sqrt&#x27;],\n",
       "                                        &#x27;min_samples_leaf&#x27;: [1, 2, 4, 10, 30],\n",
       "                                        &#x27;min_samples_split&#x27;: [2, 5, 10, 50,\n",
       "                                                              100],\n",
       "                                        &#x27;n_estimators&#x27;: [200, 400, 600, 800,\n",
       "                                                         1000, 1200, 1400, 1600,\n",
       "                                                         1800, 2000]},\n",
       "                   random_state=42, verbose=2)</pre><b>In a Jupyter environment, please rerun this cell to show the HTML representation or trust the notebook. <br />On GitHub, the HTML representation is unable to render, please try loading this page with nbviewer.org.</b></div><div class=\"sk-container\" hidden><div class=\"sk-item sk-dashed-wrapped\"><div class=\"sk-label-container\"><div class=\"sk-label sk-toggleable\"><input class=\"sk-toggleable__control sk-hidden--visually\" id=\"sk-estimator-id-1\" type=\"checkbox\" ><label for=\"sk-estimator-id-1\" class=\"sk-toggleable__label sk-toggleable__label-arrow\">RandomizedSearchCV</label><div class=\"sk-toggleable__content\"><pre>RandomizedSearchCV(cv=3, estimator=RandomForestClassifier(), n_iter=100,\n",
       "                   n_jobs=-1,\n",
       "                   param_distributions={&#x27;bootstrap&#x27;: [True, False],\n",
       "                                        &#x27;max_depth&#x27;: [2, 4, 6, 8, 10, 12, 14,\n",
       "                                                      None],\n",
       "                                        &#x27;max_features&#x27;: [&#x27;auto&#x27;, &#x27;sqrt&#x27;],\n",
       "                                        &#x27;min_samples_leaf&#x27;: [1, 2, 4, 10, 30],\n",
       "                                        &#x27;min_samples_split&#x27;: [2, 5, 10, 50,\n",
       "                                                              100],\n",
       "                                        &#x27;n_estimators&#x27;: [200, 400, 600, 800,\n",
       "                                                         1000, 1200, 1400, 1600,\n",
       "                                                         1800, 2000]},\n",
       "                   random_state=42, verbose=2)</pre></div></div></div><div class=\"sk-parallel\"><div class=\"sk-parallel-item\"><div class=\"sk-item\"><div class=\"sk-label-container\"><div class=\"sk-label sk-toggleable\"><input class=\"sk-toggleable__control sk-hidden--visually\" id=\"sk-estimator-id-2\" type=\"checkbox\" ><label for=\"sk-estimator-id-2\" class=\"sk-toggleable__label sk-toggleable__label-arrow\">estimator: RandomForestClassifier</label><div class=\"sk-toggleable__content\"><pre>RandomForestClassifier()</pre></div></div></div><div class=\"sk-serial\"><div class=\"sk-item\"><div class=\"sk-estimator sk-toggleable\"><input class=\"sk-toggleable__control sk-hidden--visually\" id=\"sk-estimator-id-3\" type=\"checkbox\" ><label for=\"sk-estimator-id-3\" class=\"sk-toggleable__label sk-toggleable__label-arrow\">RandomForestClassifier</label><div class=\"sk-toggleable__content\"><pre>RandomForestClassifier()</pre></div></div></div></div></div></div></div></div></div></div>"
      ],
      "text/plain": [
       "RandomizedSearchCV(cv=3, estimator=RandomForestClassifier(), n_iter=100,\n",
       "                   n_jobs=-1,\n",
       "                   param_distributions={'bootstrap': [True, False],\n",
       "                                        'max_depth': [2, 4, 6, 8, 10, 12, 14,\n",
       "                                                      None],\n",
       "                                        'max_features': ['auto', 'sqrt'],\n",
       "                                        'min_samples_leaf': [1, 2, 4, 10, 30],\n",
       "                                        'min_samples_split': [2, 5, 10, 50,\n",
       "                                                              100],\n",
       "                                        'n_estimators': [200, 400, 600, 800,\n",
       "                                                         1000, 1200, 1400, 1600,\n",
       "                                                         1800, 2000]},\n",
       "                   random_state=42, verbose=2)"
      ]
     },
     "execution_count": 24,
     "metadata": {},
     "output_type": "execute_result"
    }
   ],
   "source": [
    "# Crear un modelo RandomForestClassifier\n",
    "rf_clf  = RandomForestClassifier()\n",
    "# Configurar RandomizedSearchCV\n",
    "rf_random_clf  = RandomizedSearchCV(estimator = rf_clf , param_distributions = random_grid, n_iter = 100, cv = 3, verbose = 2, random_state = 42, n_jobs = -1)\n",
    "# Ajustar el modelo\n",
    "rf_random_clf .fit(X_train, y_train)"
   ]
  },
  {
   "cell_type": "markdown",
   "metadata": {},
   "source": [
    "## Entrenamiento Random Forest para Regresión"
   ]
  },
  {
   "cell_type": "code",
   "execution_count": 25,
   "metadata": {
    "tags": []
   },
   "outputs": [
    {
     "name": "stdout",
     "output_type": "stream",
     "text": [
      "Fitting 3 folds for each of 100 candidates, totalling 300 fits\n"
     ]
    },
    {
     "data": {
      "text/html": [
       "<style>#sk-container-id-2 {color: black;background-color: white;}#sk-container-id-2 pre{padding: 0;}#sk-container-id-2 div.sk-toggleable {background-color: white;}#sk-container-id-2 label.sk-toggleable__label {cursor: pointer;display: block;width: 100%;margin-bottom: 0;padding: 0.3em;box-sizing: border-box;text-align: center;}#sk-container-id-2 label.sk-toggleable__label-arrow:before {content: \"▸\";float: left;margin-right: 0.25em;color: #696969;}#sk-container-id-2 label.sk-toggleable__label-arrow:hover:before {color: black;}#sk-container-id-2 div.sk-estimator:hover label.sk-toggleable__label-arrow:before {color: black;}#sk-container-id-2 div.sk-toggleable__content {max-height: 0;max-width: 0;overflow: hidden;text-align: left;background-color: #f0f8ff;}#sk-container-id-2 div.sk-toggleable__content pre {margin: 0.2em;color: black;border-radius: 0.25em;background-color: #f0f8ff;}#sk-container-id-2 input.sk-toggleable__control:checked~div.sk-toggleable__content {max-height: 200px;max-width: 100%;overflow: auto;}#sk-container-id-2 input.sk-toggleable__control:checked~label.sk-toggleable__label-arrow:before {content: \"▾\";}#sk-container-id-2 div.sk-estimator input.sk-toggleable__control:checked~label.sk-toggleable__label {background-color: #d4ebff;}#sk-container-id-2 div.sk-label input.sk-toggleable__control:checked~label.sk-toggleable__label {background-color: #d4ebff;}#sk-container-id-2 input.sk-hidden--visually {border: 0;clip: rect(1px 1px 1px 1px);clip: rect(1px, 1px, 1px, 1px);height: 1px;margin: -1px;overflow: hidden;padding: 0;position: absolute;width: 1px;}#sk-container-id-2 div.sk-estimator {font-family: monospace;background-color: #f0f8ff;border: 1px dotted black;border-radius: 0.25em;box-sizing: border-box;margin-bottom: 0.5em;}#sk-container-id-2 div.sk-estimator:hover {background-color: #d4ebff;}#sk-container-id-2 div.sk-parallel-item::after {content: \"\";width: 100%;border-bottom: 1px solid gray;flex-grow: 1;}#sk-container-id-2 div.sk-label:hover label.sk-toggleable__label {background-color: #d4ebff;}#sk-container-id-2 div.sk-serial::before {content: \"\";position: absolute;border-left: 1px solid gray;box-sizing: border-box;top: 0;bottom: 0;left: 50%;z-index: 0;}#sk-container-id-2 div.sk-serial {display: flex;flex-direction: column;align-items: center;background-color: white;padding-right: 0.2em;padding-left: 0.2em;position: relative;}#sk-container-id-2 div.sk-item {position: relative;z-index: 1;}#sk-container-id-2 div.sk-parallel {display: flex;align-items: stretch;justify-content: center;background-color: white;position: relative;}#sk-container-id-2 div.sk-item::before, #sk-container-id-2 div.sk-parallel-item::before {content: \"\";position: absolute;border-left: 1px solid gray;box-sizing: border-box;top: 0;bottom: 0;left: 50%;z-index: -1;}#sk-container-id-2 div.sk-parallel-item {display: flex;flex-direction: column;z-index: 1;position: relative;background-color: white;}#sk-container-id-2 div.sk-parallel-item:first-child::after {align-self: flex-end;width: 50%;}#sk-container-id-2 div.sk-parallel-item:last-child::after {align-self: flex-start;width: 50%;}#sk-container-id-2 div.sk-parallel-item:only-child::after {width: 0;}#sk-container-id-2 div.sk-dashed-wrapped {border: 1px dashed gray;margin: 0 0.4em 0.5em 0.4em;box-sizing: border-box;padding-bottom: 0.4em;background-color: white;}#sk-container-id-2 div.sk-label label {font-family: monospace;font-weight: bold;display: inline-block;line-height: 1.2em;}#sk-container-id-2 div.sk-label-container {text-align: center;}#sk-container-id-2 div.sk-container {/* jupyter's `normalize.less` sets `[hidden] { display: none; }` but bootstrap.min.css set `[hidden] { display: none !important; }` so we also need the `!important` here to be able to override the default hidden behavior on the sphinx rendered scikit-learn.org. See: https://github.com/scikit-learn/scikit-learn/issues/21755 */display: inline-block !important;position: relative;}#sk-container-id-2 div.sk-text-repr-fallback {display: none;}</style><div id=\"sk-container-id-2\" class=\"sk-top-container\"><div class=\"sk-text-repr-fallback\"><pre>RandomizedSearchCV(cv=3, estimator=RandomForestRegressor(), n_iter=100,\n",
       "                   n_jobs=-1,\n",
       "                   param_distributions={&#x27;bootstrap&#x27;: [True, False],\n",
       "                                        &#x27;max_depth&#x27;: [2, 4, 6, 8, 10, 12, 14,\n",
       "                                                      None],\n",
       "                                        &#x27;max_features&#x27;: [&#x27;auto&#x27;, &#x27;sqrt&#x27;],\n",
       "                                        &#x27;min_samples_leaf&#x27;: [1, 2, 4, 10, 30],\n",
       "                                        &#x27;min_samples_split&#x27;: [2, 5, 10, 50,\n",
       "                                                              100],\n",
       "                                        &#x27;n_estimators&#x27;: [200, 400, 600, 800,\n",
       "                                                         1000, 1200, 1400, 1600,\n",
       "                                                         1800, 2000]},\n",
       "                   random_state=42, verbose=2)</pre><b>In a Jupyter environment, please rerun this cell to show the HTML representation or trust the notebook. <br />On GitHub, the HTML representation is unable to render, please try loading this page with nbviewer.org.</b></div><div class=\"sk-container\" hidden><div class=\"sk-item sk-dashed-wrapped\"><div class=\"sk-label-container\"><div class=\"sk-label sk-toggleable\"><input class=\"sk-toggleable__control sk-hidden--visually\" id=\"sk-estimator-id-4\" type=\"checkbox\" ><label for=\"sk-estimator-id-4\" class=\"sk-toggleable__label sk-toggleable__label-arrow\">RandomizedSearchCV</label><div class=\"sk-toggleable__content\"><pre>RandomizedSearchCV(cv=3, estimator=RandomForestRegressor(), n_iter=100,\n",
       "                   n_jobs=-1,\n",
       "                   param_distributions={&#x27;bootstrap&#x27;: [True, False],\n",
       "                                        &#x27;max_depth&#x27;: [2, 4, 6, 8, 10, 12, 14,\n",
       "                                                      None],\n",
       "                                        &#x27;max_features&#x27;: [&#x27;auto&#x27;, &#x27;sqrt&#x27;],\n",
       "                                        &#x27;min_samples_leaf&#x27;: [1, 2, 4, 10, 30],\n",
       "                                        &#x27;min_samples_split&#x27;: [2, 5, 10, 50,\n",
       "                                                              100],\n",
       "                                        &#x27;n_estimators&#x27;: [200, 400, 600, 800,\n",
       "                                                         1000, 1200, 1400, 1600,\n",
       "                                                         1800, 2000]},\n",
       "                   random_state=42, verbose=2)</pre></div></div></div><div class=\"sk-parallel\"><div class=\"sk-parallel-item\"><div class=\"sk-item\"><div class=\"sk-label-container\"><div class=\"sk-label sk-toggleable\"><input class=\"sk-toggleable__control sk-hidden--visually\" id=\"sk-estimator-id-5\" type=\"checkbox\" ><label for=\"sk-estimator-id-5\" class=\"sk-toggleable__label sk-toggleable__label-arrow\">estimator: RandomForestRegressor</label><div class=\"sk-toggleable__content\"><pre>RandomForestRegressor()</pre></div></div></div><div class=\"sk-serial\"><div class=\"sk-item\"><div class=\"sk-estimator sk-toggleable\"><input class=\"sk-toggleable__control sk-hidden--visually\" id=\"sk-estimator-id-6\" type=\"checkbox\" ><label for=\"sk-estimator-id-6\" class=\"sk-toggleable__label sk-toggleable__label-arrow\">RandomForestRegressor</label><div class=\"sk-toggleable__content\"><pre>RandomForestRegressor()</pre></div></div></div></div></div></div></div></div></div></div>"
      ],
      "text/plain": [
       "RandomizedSearchCV(cv=3, estimator=RandomForestRegressor(), n_iter=100,\n",
       "                   n_jobs=-1,\n",
       "                   param_distributions={'bootstrap': [True, False],\n",
       "                                        'max_depth': [2, 4, 6, 8, 10, 12, 14,\n",
       "                                                      None],\n",
       "                                        'max_features': ['auto', 'sqrt'],\n",
       "                                        'min_samples_leaf': [1, 2, 4, 10, 30],\n",
       "                                        'min_samples_split': [2, 5, 10, 50,\n",
       "                                                              100],\n",
       "                                        'n_estimators': [200, 400, 600, 800,\n",
       "                                                         1000, 1200, 1400, 1600,\n",
       "                                                         1800, 2000]},\n",
       "                   random_state=42, verbose=2)"
      ]
     },
     "execution_count": 25,
     "metadata": {},
     "output_type": "execute_result"
    }
   ],
   "source": [
    "# Utilice la cuadrícula aleatoria para buscar los mejores hiperparámetros\n",
    "# Primero crea el modelo base para ajustar\n",
    "rf_reg = RandomForestRegressor()\n",
    "# Configurar RandomizedSearchCV\n",
    "rf_random_reg = RandomizedSearchCV(estimator = rf_reg, param_distributions = random_grid, n_iter = 100, cv = 3, verbose = 2, random_state = 42, n_jobs = -1)\n",
    "# Ajustar el modelo de búsqueda aleatoria\n",
    "rf_random_reg.fit(X_train, y_train)"
   ]
  },
  {
   "cell_type": "markdown",
   "metadata": {},
   "source": [
    "## Resultados Random Forest para Clasificación"
   ]
  },
  {
   "cell_type": "code",
   "execution_count": 26,
   "metadata": {},
   "outputs": [
    {
     "name": "stdout",
     "output_type": "stream",
     "text": [
      "Mejor estimador para RF clasificación encontrado:\n",
      "RandomForestClassifier(min_samples_split=5, n_estimators=400)\n",
      "Mejores parámetros RF clasificación encontrados:\n",
      "{'n_estimators': 400, 'min_samples_split': 5, 'min_samples_leaf': 1, 'max_features': 'sqrt', 'max_depth': None, 'bootstrap': True}\n"
     ]
    }
   ],
   "source": [
    "# Obtener el mejor estimador y sus parámetros\n",
    "best_estimator_clf = rf_random_clf.best_estimator_\n",
    "best_params_clf = rf_random_clf.best_params_\n",
    "# Imprimir los resultados\n",
    "print(\"Mejor estimador para RF clasificación encontrado:\")\n",
    "print(best_estimator_clf)\n",
    "print(\"Mejores parámetros RF clasificación encontrados:\")\n",
    "print(best_params_clf)"
   ]
  },
  {
   "cell_type": "code",
   "execution_count": 27,
   "metadata": {},
   "outputs": [
    {
     "name": "stdout",
     "output_type": "stream",
     "text": [
      "Primeras 10 predicciones: [6 6 6 6 7 5 6 5 5 6]\n",
      "Precisión (Accuracy) = 63.014%.\n",
      "Puntuación media de la validación cruzada: 64.3973%\n",
      "Puntuación de Recall: 0.6301369863013698\n",
      "Puntuación de Precisión: 0.6104795258179101\n",
      "Puntuación F1: 0.6197932147710852\n",
      "Informe de Clasificación\n",
      "              precision    recall  f1-score   support\n",
      "\n",
      "           4       0.00      0.00      0.00         6\n",
      "           5       0.71      0.74      0.72       131\n",
      "           6       0.58      0.61      0.60       116\n",
      "           7       0.50      0.44      0.47        36\n",
      "           8       0.00      0.00      0.00         3\n",
      "\n",
      "    accuracy                           0.63       292\n",
      "   macro avg       0.36      0.36      0.36       292\n",
      "weighted avg       0.61      0.63      0.62       292\n",
      "\n",
      "Confusion Matrix\n"
     ]
    },
    {
     "data": {
      "image/png": "[encoded data removed]",
      "text/plain": [
       "<Figure size 500x500 with 1 Axes>"
      ]
     },
     "metadata": {},
     "output_type": "display_data"
    }
   ],
   "source": [
    "accuracy = evaluate(best_estimator_clf, X_train, y_train, X_test, y_test)"
   ]
  },
  {
   "cell_type": "code",
   "execution_count": 28,
   "metadata": {},
   "outputs": [
    {
     "data": {
      "image/png": "[encoded data removed]",
      "text/plain": [
       "<Figure size 640x480 with 1 Axes>"
      ]
     },
     "metadata": {},
     "output_type": "display_data"
    }
   ],
   "source": [
    "feature_imp = pd.Series(rf_random_clf.best_estimator_.feature_importances_, index = df.columns[:4]).sort_values(ascending = False)\n",
    "feature_imp\n",
    "# Visualización de características importantes\n",
    "sns.barplot(x = feature_imp, y = feature_imp.index)\n",
    "plt.xlabel('Puntuación de importancia de la característica')\n",
    "plt.ylabel('Características')\n",
    "plt.title(\"Visualización de características importantes\")\n",
    "plt.show()"
   ]
  },
  {
   "cell_type": "markdown",
   "metadata": {},
   "source": [
    "## Resultados Random Forest para Regresión"
   ]
  },
  {
   "cell_type": "code",
   "execution_count": 29,
   "metadata": {},
   "outputs": [
    {
     "name": "stdout",
     "output_type": "stream",
     "text": [
      "Mejor estimador RF Regresión encontrado:\n",
      "RandomForestRegressor(max_features='sqrt', min_samples_split=5,\n",
      "                      n_estimators=400)\n",
      "Mejores parámetros RF Regresión encontrados:\n",
      "{'n_estimators': 400, 'min_samples_split': 5, 'min_samples_leaf': 1, 'max_features': 'sqrt', 'max_depth': None, 'bootstrap': True}\n"
     ]
    }
   ],
   "source": [
    "# Obtener el mejor estimador y sus parámetros\n",
    "best_estimator_reg = rf_random_reg.best_estimator_\n",
    "best_params_reg = rf_random_reg.best_params_\n",
    "# Imprimir los resultados\n",
    "print(\"Mejor estimador RF Regresión encontrado:\")\n",
    "print(best_estimator_reg)\n",
    "print(\"Mejores parámetros RF Regresión encontrados:\")\n",
    "print(best_params_reg)"
   ]
  },
  {
   "cell_type": "code",
   "execution_count": 30,
   "metadata": {},
   "outputs": [
    {
     "name": "stdout",
     "output_type": "stream",
     "text": [
      "[5.97059425 6.1758125  5.73669895 5.57937302 6.49191441 5.57765413\n",
      " 5.73504167 4.9860119  5.1981121  6.07227083]\n",
      "Mean Squared Error (MSE): 0.3919779363556663\n",
      "Mean Absolute Error (MAE): 0.4637295902347272\n",
      "R-squared (R²): 0.3189687872556386\n"
     ]
    }
   ],
   "source": [
    "# Realizar predicciones\n",
    "y_pred = best_estimator_reg.predict(X_test)\n",
    "print(y_pred[:10])\n",
    "\n",
    "# Calcular MSE\n",
    "mse = mean_squared_error(y_test, y_pred)\n",
    "print(f\"Mean Squared Error (MSE): {mse}\")\n",
    "\n",
    "# Calcular MAE\n",
    "mae = mean_absolute_error(y_test, y_pred)\n",
    "print(f\"Mean Absolute Error (MAE): {mae}\")\n",
    "\n",
    "# Calcular R^2\n",
    "r2 = r2_score(y_test, y_pred)\n",
    "print(f\"R-squared (R²): {r2}\")"
   ]
  },
  {
   "cell_type": "markdown",
   "metadata": {},
   "source": [
    "No aplica el informe de clasificación porque este es un modelo de regresión, el cual entrega valores numéricos continuos en y_pred, no clases categóricas. Cuando intentas aplicar métricas de clasificación (como precisión, recall o F1-score) a los resultados de un modelo de regresión, el sistema no puede procesar los valores continuos porque esas métricas están diseñadas específicamente para evaluar predicciones categóricas."
   ]
  },
  {
   "cell_type": "code",
   "execution_count": 31,
   "metadata": {},
   "outputs": [
    {
     "data": {
      "image/png": "[encoded data removed]",
      "text/plain": [
       "<Figure size 640x480 with 1 Axes>"
      ]
     },
     "metadata": {},
     "output_type": "display_data"
    }
   ],
   "source": [
    "feature_imp = pd.Series(rf_random_reg.best_estimator_.feature_importances_, index = df.columns[:4]).sort_values(ascending = False)\n",
    "feature_imp\n",
    "# Visualización de características importantes\n",
    "sns.barplot(x = feature_imp, y = feature_imp.index)\n",
    "plt.xlabel('Puntuación de importancia de la característica')\n",
    "plt.ylabel('Características')\n",
    "plt.title(\"Visualización de características importantes\")\n",
    "plt.show()"
   ]
  },
  {
   "cell_type": "markdown",
   "metadata": {},
   "source": [
    "## Extra Trees Classifier (ETC)"
   ]
  },
  {
   "cell_type": "code",
   "execution_count": 32,
   "metadata": {},
   "outputs": [
    {
     "name": "stdout",
     "output_type": "stream",
     "text": [
      "Fitting 3 folds for each of 100 candidates, totalling 300 fits\n"
     ]
    },
    {
     "data": {
      "text/html": [
       "<style>#sk-container-id-3 {color: black;background-color: white;}#sk-container-id-3 pre{padding: 0;}#sk-container-id-3 div.sk-toggleable {background-color: white;}#sk-container-id-3 label.sk-toggleable__label {cursor: pointer;display: block;width: 100%;margin-bottom: 0;padding: 0.3em;box-sizing: border-box;text-align: center;}#sk-container-id-3 label.sk-toggleable__label-arrow:before {content: \"▸\";float: left;margin-right: 0.25em;color: #696969;}#sk-container-id-3 label.sk-toggleable__label-arrow:hover:before {color: black;}#sk-container-id-3 div.sk-estimator:hover label.sk-toggleable__label-arrow:before {color: black;}#sk-container-id-3 div.sk-toggleable__content {max-height: 0;max-width: 0;overflow: hidden;text-align: left;background-color: #f0f8ff;}#sk-container-id-3 div.sk-toggleable__content pre {margin: 0.2em;color: black;border-radius: 0.25em;background-color: #f0f8ff;}#sk-container-id-3 input.sk-toggleable__control:checked~div.sk-toggleable__content {max-height: 200px;max-width: 100%;overflow: auto;}#sk-container-id-3 input.sk-toggleable__control:checked~label.sk-toggleable__label-arrow:before {content: \"▾\";}#sk-container-id-3 div.sk-estimator input.sk-toggleable__control:checked~label.sk-toggleable__label {background-color: #d4ebff;}#sk-container-id-3 div.sk-label input.sk-toggleable__control:checked~label.sk-toggleable__label {background-color: #d4ebff;}#sk-container-id-3 input.sk-hidden--visually {border: 0;clip: rect(1px 1px 1px 1px);clip: rect(1px, 1px, 1px, 1px);height: 1px;margin: -1px;overflow: hidden;padding: 0;position: absolute;width: 1px;}#sk-container-id-3 div.sk-estimator {font-family: monospace;background-color: #f0f8ff;border: 1px dotted black;border-radius: 0.25em;box-sizing: border-box;margin-bottom: 0.5em;}#sk-container-id-3 div.sk-estimator:hover {background-color: #d4ebff;}#sk-container-id-3 div.sk-parallel-item::after {content: \"\";width: 100%;border-bottom: 1px solid gray;flex-grow: 1;}#sk-container-id-3 div.sk-label:hover label.sk-toggleable__label {background-color: #d4ebff;}#sk-container-id-3 div.sk-serial::before {content: \"\";position: absolute;border-left: 1px solid gray;box-sizing: border-box;top: 0;bottom: 0;left: 50%;z-index: 0;}#sk-container-id-3 div.sk-serial {display: flex;flex-direction: column;align-items: center;background-color: white;padding-right: 0.2em;padding-left: 0.2em;position: relative;}#sk-container-id-3 div.sk-item {position: relative;z-index: 1;}#sk-container-id-3 div.sk-parallel {display: flex;align-items: stretch;justify-content: center;background-color: white;position: relative;}#sk-container-id-3 div.sk-item::before, #sk-container-id-3 div.sk-parallel-item::before {content: \"\";position: absolute;border-left: 1px solid gray;box-sizing: border-box;top: 0;bottom: 0;left: 50%;z-index: -1;}#sk-container-id-3 div.sk-parallel-item {display: flex;flex-direction: column;z-index: 1;position: relative;background-color: white;}#sk-container-id-3 div.sk-parallel-item:first-child::after {align-self: flex-end;width: 50%;}#sk-container-id-3 div.sk-parallel-item:last-child::after {align-self: flex-start;width: 50%;}#sk-container-id-3 div.sk-parallel-item:only-child::after {width: 0;}#sk-container-id-3 div.sk-dashed-wrapped {border: 1px dashed gray;margin: 0 0.4em 0.5em 0.4em;box-sizing: border-box;padding-bottom: 0.4em;background-color: white;}#sk-container-id-3 div.sk-label label {font-family: monospace;font-weight: bold;display: inline-block;line-height: 1.2em;}#sk-container-id-3 div.sk-label-container {text-align: center;}#sk-container-id-3 div.sk-container {/* jupyter's `normalize.less` sets `[hidden] { display: none; }` but bootstrap.min.css set `[hidden] { display: none !important; }` so we also need the `!important` here to be able to override the default hidden behavior on the sphinx rendered scikit-learn.org. See: https://github.com/scikit-learn/scikit-learn/issues/21755 */display: inline-block !important;position: relative;}#sk-container-id-3 div.sk-text-repr-fallback {display: none;}</style><div id=\"sk-container-id-3\" class=\"sk-top-container\"><div class=\"sk-text-repr-fallback\"><pre>RandomizedSearchCV(cv=3, estimator=ExtraTreesClassifier(), n_iter=100,\n",
       "                   n_jobs=-1,\n",
       "                   param_distributions={&#x27;bootstrap&#x27;: [True, False],\n",
       "                                        &#x27;max_depth&#x27;: [2, 4, 6, 8, 10, 12, 14,\n",
       "                                                      None],\n",
       "                                        &#x27;max_features&#x27;: [&#x27;auto&#x27;, &#x27;sqrt&#x27;],\n",
       "                                        &#x27;min_samples_leaf&#x27;: [1, 2, 4, 10, 30],\n",
       "                                        &#x27;min_samples_split&#x27;: [2, 5, 10, 50,\n",
       "                                                              100],\n",
       "                                        &#x27;n_estimators&#x27;: [200, 400, 600, 800,\n",
       "                                                         1000, 1200, 1400, 1600,\n",
       "                                                         1800, 2000]},\n",
       "                   random_state=42, verbose=2)</pre><b>In a Jupyter environment, please rerun this cell to show the HTML representation or trust the notebook. <br />On GitHub, the HTML representation is unable to render, please try loading this page with nbviewer.org.</b></div><div class=\"sk-container\" hidden><div class=\"sk-item sk-dashed-wrapped\"><div class=\"sk-label-container\"><div class=\"sk-label sk-toggleable\"><input class=\"sk-toggleable__control sk-hidden--visually\" id=\"sk-estimator-id-7\" type=\"checkbox\" ><label for=\"sk-estimator-id-7\" class=\"sk-toggleable__label sk-toggleable__label-arrow\">RandomizedSearchCV</label><div class=\"sk-toggleable__content\"><pre>RandomizedSearchCV(cv=3, estimator=ExtraTreesClassifier(), n_iter=100,\n",
       "                   n_jobs=-1,\n",
       "                   param_distributions={&#x27;bootstrap&#x27;: [True, False],\n",
       "                                        &#x27;max_depth&#x27;: [2, 4, 6, 8, 10, 12, 14,\n",
       "                                                      None],\n",
       "                                        &#x27;max_features&#x27;: [&#x27;auto&#x27;, &#x27;sqrt&#x27;],\n",
       "                                        &#x27;min_samples_leaf&#x27;: [1, 2, 4, 10, 30],\n",
       "                                        &#x27;min_samples_split&#x27;: [2, 5, 10, 50,\n",
       "                                                              100],\n",
       "                                        &#x27;n_estimators&#x27;: [200, 400, 600, 800,\n",
       "                                                         1000, 1200, 1400, 1600,\n",
       "                                                         1800, 2000]},\n",
       "                   random_state=42, verbose=2)</pre></div></div></div><div class=\"sk-parallel\"><div class=\"sk-parallel-item\"><div class=\"sk-item\"><div class=\"sk-label-container\"><div class=\"sk-label sk-toggleable\"><input class=\"sk-toggleable__control sk-hidden--visually\" id=\"sk-estimator-id-8\" type=\"checkbox\" ><label for=\"sk-estimator-id-8\" class=\"sk-toggleable__label sk-toggleable__label-arrow\">estimator: ExtraTreesClassifier</label><div class=\"sk-toggleable__content\"><pre>ExtraTreesClassifier()</pre></div></div></div><div class=\"sk-serial\"><div class=\"sk-item\"><div class=\"sk-estimator sk-toggleable\"><input class=\"sk-toggleable__control sk-hidden--visually\" id=\"sk-estimator-id-9\" type=\"checkbox\" ><label for=\"sk-estimator-id-9\" class=\"sk-toggleable__label sk-toggleable__label-arrow\">ExtraTreesClassifier</label><div class=\"sk-toggleable__content\"><pre>ExtraTreesClassifier()</pre></div></div></div></div></div></div></div></div></div></div>"
      ],
      "text/plain": [
       "RandomizedSearchCV(cv=3, estimator=ExtraTreesClassifier(), n_iter=100,\n",
       "                   n_jobs=-1,\n",
       "                   param_distributions={'bootstrap': [True, False],\n",
       "                                        'max_depth': [2, 4, 6, 8, 10, 12, 14,\n",
       "                                                      None],\n",
       "                                        'max_features': ['auto', 'sqrt'],\n",
       "                                        'min_samples_leaf': [1, 2, 4, 10, 30],\n",
       "                                        'min_samples_split': [2, 5, 10, 50,\n",
       "                                                              100],\n",
       "                                        'n_estimators': [200, 400, 600, 800,\n",
       "                                                         1000, 1200, 1400, 1600,\n",
       "                                                         1800, 2000]},\n",
       "                   random_state=42, verbose=2)"
      ]
     },
     "execution_count": 32,
     "metadata": {},
     "output_type": "execute_result"
    }
   ],
   "source": [
    "# Utilice la cuadrícula aleatoria para buscar los mejores hiperparámetros\n",
    "# Crear el modelo ExtraTreesClassifier\n",
    "etc = ExtraTreesClassifier()\n",
    "# Búsqueda aleatoria de parámetros, utilizando validación cruzada triple,\n",
    "# Busque en 100 combinaciones diferentes y utilice todos los núcleos disponibles\n",
    "rf_etc = RandomizedSearchCV(estimator = etc, param_distributions = random_grid, n_iter = 100, cv = 3, verbose = 2, random_state = 42, n_jobs = -1)\n",
    "# Ajustar el modelo de búsqueda aleatoria\n",
    "rf_etc.fit(X_train, y_train)"
   ]
  },
  {
   "cell_type": "code",
   "execution_count": 33,
   "metadata": {},
   "outputs": [
    {
     "name": "stdout",
     "output_type": "stream",
     "text": [
      "Mejor estimador para ETC encontrado:\n",
      "ExtraTreesClassifier(max_depth=12, n_estimators=1200)\n",
      "Mejores parámetros ETC encontrados:\n",
      "{'n_estimators': 1200, 'min_samples_split': 2, 'min_samples_leaf': 1, 'max_features': 'sqrt', 'max_depth': 12, 'bootstrap': False}\n"
     ]
    }
   ],
   "source": [
    "# Obtener el mejor estimador y sus parámetros\n",
    "best_estimator_etc = rf_etc.best_estimator_\n",
    "best_params_etc = rf_etc.best_params_\n",
    "# Imprimir los resultados\n",
    "print(\"Mejor estimador para ETC encontrado:\")\n",
    "print(best_estimator_etc)\n",
    "print(\"Mejores parámetros ETC encontrados:\")\n",
    "print(best_params_etc)"
   ]
  },
  {
   "cell_type": "code",
   "execution_count": 34,
   "metadata": {},
   "outputs": [
    {
     "name": "stdout",
     "output_type": "stream",
     "text": [
      "Primeras 10 predicciones: [6 6 6 6 6 5 6 5 5 6]\n",
      "Precisión (Accuracy) = 65.753%.\n",
      "Puntuación media de la validación cruzada: 62.8529%\n",
      "Puntuación de Recall: 0.6575342465753424\n",
      "Puntuación de Precisión: 0.6329281587489537\n",
      "Puntuación F1: 0.6427850120346831\n",
      "Informe de Clasificación\n",
      "              precision    recall  f1-score   support\n",
      "\n",
      "           4       0.00      0.00      0.00         6\n",
      "           5       0.73      0.79      0.76       131\n",
      "           6       0.62      0.66      0.64       116\n",
      "           7       0.48      0.33      0.39        36\n",
      "           8       0.00      0.00      0.00         3\n",
      "\n",
      "    accuracy                           0.66       292\n",
      "   macro avg       0.37      0.36      0.36       292\n",
      "weighted avg       0.63      0.66      0.64       292\n",
      "\n",
      "Confusion Matrix\n"
     ]
    },
    {
     "data": {
      "image/png": "[encoded data removed]",
      "text/plain": [
       "<Figure size 500x500 with 1 Axes>"
      ]
     },
     "metadata": {},
     "output_type": "display_data"
    }
   ],
   "source": [
    "accuracy = evaluate(best_estimator_etc, X_train, y_train, X_test, y_test)"
   ]
  },
  {
   "cell_type": "code",
   "execution_count": 35,
   "metadata": {},
   "outputs": [
    {
     "data": {
      "image/png": "[encoded data removed]",
      "text/plain": [
       "<Figure size 640x480 with 1 Axes>"
      ]
     },
     "metadata": {},
     "output_type": "display_data"
    }
   ],
   "source": [
    "feature_imp = pd.Series(rf_etc.best_estimator_.feature_importances_, index = df.columns[:4]).sort_values(ascending = False)\n",
    "feature_imp\n",
    "# Visualización de características importantes\n",
    "sns.barplot(x = feature_imp, y = feature_imp.index)\n",
    "plt.xlabel('Puntuación de importancia de la característica')\n",
    "plt.ylabel('Características')\n",
    "plt.title(\"Visualización de características importantes\")\n",
    "plt.show()"
   ]
  },
  {
   "cell_type": "markdown",
   "metadata": {
    "tags": []
   },
   "source": [
    "## Extra Trees Regressor "
   ]
  },
  {
   "cell_type": "code",
   "execution_count": 47,
   "metadata": {
    "tags": []
   },
   "outputs": [
    {
     "name": "stdout",
     "output_type": "stream",
     "text": [
      "Fitting 3 folds for each of 100 candidates, totalling 300 fits\n"
     ]
    },
    {
     "data": {
      "text/html": [
       "<style>#sk-container-id-4 {color: black;background-color: white;}#sk-container-id-4 pre{padding: 0;}#sk-container-id-4 div.sk-toggleable {background-color: white;}#sk-container-id-4 label.sk-toggleable__label {cursor: pointer;display: block;width: 100%;margin-bottom: 0;padding: 0.3em;box-sizing: border-box;text-align: center;}#sk-container-id-4 label.sk-toggleable__label-arrow:before {content: \"▸\";float: left;margin-right: 0.25em;color: #696969;}#sk-container-id-4 label.sk-toggleable__label-arrow:hover:before {color: black;}#sk-container-id-4 div.sk-estimator:hover label.sk-toggleable__label-arrow:before {color: black;}#sk-container-id-4 div.sk-toggleable__content {max-height: 0;max-width: 0;overflow: hidden;text-align: left;background-color: #f0f8ff;}#sk-container-id-4 div.sk-toggleable__content pre {margin: 0.2em;color: black;border-radius: 0.25em;background-color: #f0f8ff;}#sk-container-id-4 input.sk-toggleable__control:checked~div.sk-toggleable__content {max-height: 200px;max-width: 100%;overflow: auto;}#sk-container-id-4 input.sk-toggleable__control:checked~label.sk-toggleable__label-arrow:before {content: \"▾\";}#sk-container-id-4 div.sk-estimator input.sk-toggleable__control:checked~label.sk-toggleable__label {background-color: #d4ebff;}#sk-container-id-4 div.sk-label input.sk-toggleable__control:checked~label.sk-toggleable__label {background-color: #d4ebff;}#sk-container-id-4 input.sk-hidden--visually {border: 0;clip: rect(1px 1px 1px 1px);clip: rect(1px, 1px, 1px, 1px);height: 1px;margin: -1px;overflow: hidden;padding: 0;position: absolute;width: 1px;}#sk-container-id-4 div.sk-estimator {font-family: monospace;background-color: #f0f8ff;border: 1px dotted black;border-radius: 0.25em;box-sizing: border-box;margin-bottom: 0.5em;}#sk-container-id-4 div.sk-estimator:hover {background-color: #d4ebff;}#sk-container-id-4 div.sk-parallel-item::after {content: \"\";width: 100%;border-bottom: 1px solid gray;flex-grow: 1;}#sk-container-id-4 div.sk-label:hover label.sk-toggleable__label {background-color: #d4ebff;}#sk-container-id-4 div.sk-serial::before {content: \"\";position: absolute;border-left: 1px solid gray;box-sizing: border-box;top: 0;bottom: 0;left: 50%;z-index: 0;}#sk-container-id-4 div.sk-serial {display: flex;flex-direction: column;align-items: center;background-color: white;padding-right: 0.2em;padding-left: 0.2em;position: relative;}#sk-container-id-4 div.sk-item {position: relative;z-index: 1;}#sk-container-id-4 div.sk-parallel {display: flex;align-items: stretch;justify-content: center;background-color: white;position: relative;}#sk-container-id-4 div.sk-item::before, #sk-container-id-4 div.sk-parallel-item::before {content: \"\";position: absolute;border-left: 1px solid gray;box-sizing: border-box;top: 0;bottom: 0;left: 50%;z-index: -1;}#sk-container-id-4 div.sk-parallel-item {display: flex;flex-direction: column;z-index: 1;position: relative;background-color: white;}#sk-container-id-4 div.sk-parallel-item:first-child::after {align-self: flex-end;width: 50%;}#sk-container-id-4 div.sk-parallel-item:last-child::after {align-self: flex-start;width: 50%;}#sk-container-id-4 div.sk-parallel-item:only-child::after {width: 0;}#sk-container-id-4 div.sk-dashed-wrapped {border: 1px dashed gray;margin: 0 0.4em 0.5em 0.4em;box-sizing: border-box;padding-bottom: 0.4em;background-color: white;}#sk-container-id-4 div.sk-label label {font-family: monospace;font-weight: bold;display: inline-block;line-height: 1.2em;}#sk-container-id-4 div.sk-label-container {text-align: center;}#sk-container-id-4 div.sk-container {/* jupyter's `normalize.less` sets `[hidden] { display: none; }` but bootstrap.min.css set `[hidden] { display: none !important; }` so we also need the `!important` here to be able to override the default hidden behavior on the sphinx rendered scikit-learn.org. See: https://github.com/scikit-learn/scikit-learn/issues/21755 */display: inline-block !important;position: relative;}#sk-container-id-4 div.sk-text-repr-fallback {display: none;}</style><div id=\"sk-container-id-4\" class=\"sk-top-container\"><div class=\"sk-text-repr-fallback\"><pre>RandomizedSearchCV(cv=3, estimator=ExtraTreesRegressor(), n_iter=100, n_jobs=-1,\n",
       "                   param_distributions={&#x27;bootstrap&#x27;: [True, False],\n",
       "                                        &#x27;max_depth&#x27;: [2, 4, 6, 8, 10, 12, 14,\n",
       "                                                      None],\n",
       "                                        &#x27;max_features&#x27;: [&#x27;auto&#x27;, &#x27;sqrt&#x27;],\n",
       "                                        &#x27;min_samples_leaf&#x27;: [1, 2, 4, 10, 30],\n",
       "                                        &#x27;min_samples_split&#x27;: [2, 5, 10, 50,\n",
       "                                                              100],\n",
       "                                        &#x27;n_estimators&#x27;: [200, 400, 600, 800,\n",
       "                                                         1000, 1200, 1400, 1600,\n",
       "                                                         1800, 2000]},\n",
       "                   random_state=42, verbose=2)</pre><b>In a Jupyter environment, please rerun this cell to show the HTML representation or trust the notebook. <br />On GitHub, the HTML representation is unable to render, please try loading this page with nbviewer.org.</b></div><div class=\"sk-container\" hidden><div class=\"sk-item sk-dashed-wrapped\"><div class=\"sk-label-container\"><div class=\"sk-label sk-toggleable\"><input class=\"sk-toggleable__control sk-hidden--visually\" id=\"sk-estimator-id-10\" type=\"checkbox\" ><label for=\"sk-estimator-id-10\" class=\"sk-toggleable__label sk-toggleable__label-arrow\">RandomizedSearchCV</label><div class=\"sk-toggleable__content\"><pre>RandomizedSearchCV(cv=3, estimator=ExtraTreesRegressor(), n_iter=100, n_jobs=-1,\n",
       "                   param_distributions={&#x27;bootstrap&#x27;: [True, False],\n",
       "                                        &#x27;max_depth&#x27;: [2, 4, 6, 8, 10, 12, 14,\n",
       "                                                      None],\n",
       "                                        &#x27;max_features&#x27;: [&#x27;auto&#x27;, &#x27;sqrt&#x27;],\n",
       "                                        &#x27;min_samples_leaf&#x27;: [1, 2, 4, 10, 30],\n",
       "                                        &#x27;min_samples_split&#x27;: [2, 5, 10, 50,\n",
       "                                                              100],\n",
       "                                        &#x27;n_estimators&#x27;: [200, 400, 600, 800,\n",
       "                                                         1000, 1200, 1400, 1600,\n",
       "                                                         1800, 2000]},\n",
       "                   random_state=42, verbose=2)</pre></div></div></div><div class=\"sk-parallel\"><div class=\"sk-parallel-item\"><div class=\"sk-item\"><div class=\"sk-label-container\"><div class=\"sk-label sk-toggleable\"><input class=\"sk-toggleable__control sk-hidden--visually\" id=\"sk-estimator-id-11\" type=\"checkbox\" ><label for=\"sk-estimator-id-11\" class=\"sk-toggleable__label sk-toggleable__label-arrow\">estimator: ExtraTreesRegressor</label><div class=\"sk-toggleable__content\"><pre>ExtraTreesRegressor()</pre></div></div></div><div class=\"sk-serial\"><div class=\"sk-item\"><div class=\"sk-estimator sk-toggleable\"><input class=\"sk-toggleable__control sk-hidden--visually\" id=\"sk-estimator-id-12\" type=\"checkbox\" ><label for=\"sk-estimator-id-12\" class=\"sk-toggleable__label sk-toggleable__label-arrow\">ExtraTreesRegressor</label><div class=\"sk-toggleable__content\"><pre>ExtraTreesRegressor()</pre></div></div></div></div></div></div></div></div></div></div>"
      ],
      "text/plain": [
       "RandomizedSearchCV(cv=3, estimator=ExtraTreesRegressor(), n_iter=100, n_jobs=-1,\n",
       "                   param_distributions={'bootstrap': [True, False],\n",
       "                                        'max_depth': [2, 4, 6, 8, 10, 12, 14,\n",
       "                                                      None],\n",
       "                                        'max_features': ['auto', 'sqrt'],\n",
       "                                        'min_samples_leaf': [1, 2, 4, 10, 30],\n",
       "                                        'min_samples_split': [2, 5, 10, 50,\n",
       "                                                              100],\n",
       "                                        'n_estimators': [200, 400, 600, 800,\n",
       "                                                         1000, 1200, 1400, 1600,\n",
       "                                                         1800, 2000]},\n",
       "                   random_state=42, verbose=2)"
      ]
     },
     "execution_count": 47,
     "metadata": {},
     "output_type": "execute_result"
    }
   ],
   "source": [
    "from sklearn.ensemble import ExtraTreesRegressor\n",
    "y_train = np.argmax(y_train, axis=1)\n",
    "y_test = np.argmax(y_test, axis=1)\n",
    "# Utilice la cuadrícula aleatoria para buscar los mejores hiperparámetros\n",
    "# Primero crea el modelo base\n",
    "etr_reg = ExtraTreesRegressor()\n",
    "# Configurar RandomizedSearchCV\n",
    "rf_etr_reg = RandomizedSearchCV(estimator = etr_reg, param_distributions = random_grid, n_iter = 100, cv = 3, verbose = 2, random_state = 42, n_jobs = -1)\n",
    "# Ajustar el modelo de búsqueda aleatoria\n",
    "rf_etr_reg.fit(X_train, y_train)"
   ]
  },
  {
   "cell_type": "code",
   "execution_count": 48,
   "metadata": {
    "tags": []
   },
   "outputs": [
    {
     "name": "stdout",
     "output_type": "stream",
     "text": [
      "Mejor estimador ETR encontrado:\n",
      "ExtraTreesRegressor(max_depth=14, max_features='sqrt', n_estimators=2000)\n",
      "Mejores parámetros ETR encontrados:\n",
      "{'n_estimators': 2000, 'min_samples_split': 2, 'min_samples_leaf': 1, 'max_features': 'sqrt', 'max_depth': 14, 'bootstrap': False}\n"
     ]
    }
   ],
   "source": [
    "# Obtener el mejor estimador y sus parámetros\n",
    "best_estimator_etr = rf_etr_reg.best_estimator_\n",
    "best_params_etr = rf_etr_reg.best_params_\n",
    "# Imprimir los resultados\n",
    "print(\"Mejor estimador ETR encontrado:\")\n",
    "print(best_estimator_etr)\n",
    "print(\"Mejores parámetros ETR encontrados:\")\n",
    "print(best_params_etr)"
   ]
  },
  {
   "cell_type": "code",
   "execution_count": 49,
   "metadata": {},
   "outputs": [
    {
     "name": "stdout",
     "output_type": "stream",
     "text": [
      "[5.79458616 6.08474304 5.67089537 5.4915151  6.40465786 5.41600588\n",
      " 5.69303731 4.86889836 5.23958303 6.08408236]\n",
      "Mean Squared Error (MSE): 0.38694006197272324\n",
      "Mean Absolute Error (MAE): 0.45880548327210885\n",
      "R-squared (R²): 0.3277217026175797\n"
     ]
    }
   ],
   "source": [
    "# Realizar predicciones\n",
    "y_pred = best_estimator_etr.predict(X_test)\n",
    "print(y_pred[:10])\n",
    "\n",
    "# Calcular MSE\n",
    "mse = mean_squared_error(y_test, y_pred)\n",
    "print(f\"Mean Squared Error (MSE): {mse}\")\n",
    "\n",
    "# Calcular MAE\n",
    "mae = mean_absolute_error(y_test, y_pred)\n",
    "print(f\"Mean Absolute Error (MAE): {mae}\")\n",
    "\n",
    "# Calcular R^2\n",
    "r2 = r2_score(y_test, y_pred)\n",
    "print(f\"R-squared (R²): {r2}\")"
   ]
  },
  {
   "cell_type": "code",
   "execution_count": 50,
   "metadata": {},
   "outputs": [
    {
     "data": {
      "image/png": "[encoded data removed]",
      "text/plain": [
       "<Figure size 640x480 with 1 Axes>"
      ]
     },
     "metadata": {},
     "output_type": "display_data"
    }
   ],
   "source": [
    "feature_imp = pd.Series(rf_etr_reg.best_estimator_.feature_importances_, index = df.columns[:4]).sort_values(ascending = False)\n",
    "feature_imp\n",
    "# Visualización de características importantes\n",
    "sns.barplot(x = feature_imp, y = feature_imp.index)\n",
    "plt.xlabel('Puntuación de importancia de la característica')\n",
    "plt.ylabel('Características')\n",
    "plt.title(\"Visualización de características importantes\")\n",
    "plt.show()"
   ]
  },
  {
   "cell_type": "markdown",
   "metadata": {},
   "source": [
    "## Redes Neuronales con Clasificación"
   ]
  },
  {
   "cell_type": "code",
   "execution_count": 36,
   "metadata": {},
   "outputs": [],
   "source": [
    "# Para RNN Y_train Y y_test  se codifica como una matriz de \"one-hot\"\n",
    "y_train = to_categorical(y_train)\n",
    "y_test = to_categorical(y_test)"
   ]
  },
  {
   "cell_type": "code",
   "execution_count": 37,
   "metadata": {},
   "outputs": [],
   "source": [
    "# Define your model-building function\n",
    "def build_model(hidden_layers, neurons, activation, dropout_rate, l1_reg, l2_reg):\n",
    "    model = Sequential()\n",
    "    # model.add(Dense(neurons, input_dim=X_train.shape[1], activation=activation, kernel_regularizer=l1(l1_reg) + l2(l2_reg)))\n",
    "    model.add(Dense(neurons, input_dim=X_train.shape[1], activation=activation, kernel_regularizer=l1_l2(l1=l1_reg, l2=l2_reg)))\n",
    "    for _ in range(hidden_layers - 1):\n",
    "        # model.add(Dense(neurons, activation=activation, kernel_regularizer=l1(l1_reg) + l2(l2_reg)))\n",
    "        model.add(Dense(neurons, input_dim=X_train.shape[1], activation=activation,\n",
    "                kernel_regularizer=l1_l2(l1=l1_reg, l2=l2_reg)))\n",
    "        if dropout_rate > 0:\n",
    "            model.add(Dropout(dropout_rate))\n",
    "    model.add(Dense(y_train.shape[1], activation='softmax'))\n",
    "    model.compile(loss='categorical_crossentropy', optimizer='adam', metrics=['accuracy'])\n",
    "    return model\n",
    "\n",
    "# Define the grid of parameters to search\n",
    "# param_grid = {\n",
    "#     'hidden_layers': [1, 2, 3, 4, 5, 6],\n",
    "#     'neurons': [8, 16, 32, 64, 128, 256, 512],\n",
    "#     'activation': ['relu', 'tanh', 'sigmoid'],\n",
    "#     'dropout_rate': [0.0, 0.1, 0.3],\n",
    "#     'l1_reg': [0.0, 0.1, 0.01],\n",
    "#     'l2_reg': [0.0, 0.1, 0.01]\n",
    "# }\n",
    "param_grid = {\n",
    "    'hidden_layers': [3, 4, 5, 6],\n",
    "    'neurons': [8, 16, 32, 64, 128],\n",
    "    'activation': ['relu', 'tanh', 'sigmoid'],\n",
    "    'dropout_rate': [0.0],\n",
    "    'l1_reg': [0.0],\n",
    "    'l2_reg': [0.0]\n",
    "}\n",
    "\n",
    "# Iterate over all combinations\n",
    "best_score = 0\n",
    "best_params = None"
   ]
  },
  {
   "cell_type": "code",
   "execution_count": 38,
   "metadata": {},
   "outputs": [
    {
     "name": "stdout",
     "output_type": "stream",
     "text": [
      "Iteration: 0\n",
      "Parameters: (3, 8, 'relu', 0.0, 0.0, 0.0)\n",
      "Score: 0.6267123222351074\n",
      "Iteration: 1\n",
      "Parameters: (3, 8, 'tanh', 0.0, 0.0, 0.0)\n",
      "Score: 0.6061643958091736\n",
      "Iteration: 2\n",
      "Parameters: (3, 8, 'sigmoid', 0.0, 0.0, 0.0)\n",
      "Score: 0.6164383292198181\n",
      "Iteration: 3\n",
      "Parameters: (3, 16, 'relu', 0.0, 0.0, 0.0)\n",
      "Score: 0.6130136847496033\n",
      "Iteration: 4\n",
      "Parameters: (3, 16, 'tanh', 0.0, 0.0, 0.0)\n",
      "Score: 0.5890411138534546\n",
      "Iteration: 5\n",
      "Parameters: (3, 16, 'sigmoid', 0.0, 0.0, 0.0)\n",
      "Score: 0.6164383292198181\n",
      "Iteration: 6\n",
      "Parameters: (3, 32, 'relu', 0.0, 0.0, 0.0)\n",
      "Score: 0.585616409778595\n",
      "Iteration: 7\n",
      "Parameters: (3, 32, 'tanh', 0.0, 0.0, 0.0)\n",
      "Score: 0.6369863152503967\n",
      "Iteration: 8\n",
      "Parameters: (3, 32, 'sigmoid', 0.0, 0.0, 0.0)\n",
      "Score: 0.6164383292198181\n",
      "Iteration: 9\n",
      "Parameters: (3, 64, 'relu', 0.0, 0.0, 0.0)\n",
      "Score: 0.6027397513389587\n",
      "Iteration: 10\n",
      "Parameters: (3, 64, 'tanh', 0.0, 0.0, 0.0)\n",
      "Score: 0.6198630332946777\n",
      "Iteration: 11\n",
      "Parameters: (3, 64, 'sigmoid', 0.0, 0.0, 0.0)\n",
      "Score: 0.6198630332946777\n",
      "Iteration: 12\n",
      "Parameters: (3, 128, 'relu', 0.0, 0.0, 0.0)\n",
      "Score: 0.6095890402793884\n",
      "Iteration: 13\n",
      "Parameters: (3, 128, 'tanh', 0.0, 0.0, 0.0)\n",
      "Score: 0.6404109597206116\n",
      "Iteration: 14\n",
      "Parameters: (3, 128, 'sigmoid', 0.0, 0.0, 0.0)\n",
      "Score: 0.6198630332946777\n",
      "Iteration: 15\n",
      "Parameters: (4, 8, 'relu', 0.0, 0.0, 0.0)\n",
      "Score: 0.6061643958091736\n",
      "Iteration: 16\n",
      "Parameters: (4, 8, 'tanh', 0.0, 0.0, 0.0)\n",
      "Score: 0.6198630332946777\n",
      "Iteration: 17\n",
      "Parameters: (4, 8, 'sigmoid', 0.0, 0.0, 0.0)\n",
      "Score: 0.6198630332946777\n",
      "Iteration: 18\n",
      "Parameters: (4, 16, 'relu', 0.0, 0.0, 0.0)\n",
      "Score: 0.5650684833526611\n",
      "Iteration: 19\n",
      "Parameters: (4, 16, 'tanh', 0.0, 0.0, 0.0)\n",
      "Score: 0.6095890402793884\n",
      "Iteration: 20\n",
      "Parameters: (4, 16, 'sigmoid', 0.0, 0.0, 0.0)\n",
      "Score: 0.6198630332946777\n",
      "Iteration: 21\n",
      "Parameters: (4, 32, 'relu', 0.0, 0.0, 0.0)\n",
      "Score: 0.5993150472640991\n",
      "Iteration: 22\n",
      "Parameters: (4, 32, 'tanh', 0.0, 0.0, 0.0)\n",
      "Score: 0.5993150472640991\n",
      "Iteration: 23\n",
      "Parameters: (4, 32, 'sigmoid', 0.0, 0.0, 0.0)\n",
      "Score: 0.6095890402793884\n",
      "Iteration: 24\n",
      "Parameters: (4, 64, 'relu', 0.0, 0.0, 0.0)\n",
      "Score: 0.6130136847496033\n",
      "Iteration: 25\n",
      "Parameters: (4, 64, 'tanh', 0.0, 0.0, 0.0)\n",
      "Score: 0.6301369667053223\n",
      "Iteration: 26\n",
      "Parameters: (4, 64, 'sigmoid', 0.0, 0.0, 0.0)\n",
      "Score: 0.6164383292198181\n",
      "Iteration: 27\n",
      "Parameters: (4, 128, 'relu', 0.0, 0.0, 0.0)\n",
      "Score: 0.6130136847496033\n",
      "Iteration: 28\n",
      "Parameters: (4, 128, 'tanh', 0.0, 0.0, 0.0)\n",
      "Score: 0.6232876777648926\n",
      "Iteration: 29\n",
      "Parameters: (4, 128, 'sigmoid', 0.0, 0.0, 0.0)\n",
      "Score: 0.6130136847496033\n",
      "Iteration: 30\n",
      "Parameters: (5, 8, 'relu', 0.0, 0.0, 0.0)\n",
      "Score: 0.5993150472640991\n",
      "Iteration: 31\n",
      "Parameters: (5, 8, 'tanh', 0.0, 0.0, 0.0)\n",
      "Score: 0.6232876777648926\n",
      "Iteration: 32\n",
      "Parameters: (5, 8, 'sigmoid', 0.0, 0.0, 0.0)\n",
      "Score: 0.6095890402793884\n",
      "Iteration: 33\n",
      "Parameters: (5, 16, 'relu', 0.0, 0.0, 0.0)\n",
      "Score: 0.6027397513389587\n",
      "Iteration: 34\n",
      "Parameters: (5, 16, 'tanh', 0.0, 0.0, 0.0)\n",
      "Score: 0.6404109597206116\n",
      "Iteration: 35\n",
      "Parameters: (5, 16, 'sigmoid', 0.0, 0.0, 0.0)\n",
      "Score: 0.6164383292198181\n",
      "Iteration: 36\n",
      "Parameters: (5, 32, 'relu', 0.0, 0.0, 0.0)\n",
      "Score: 0.585616409778595\n",
      "Iteration: 37\n",
      "Parameters: (5, 32, 'tanh', 0.0, 0.0, 0.0)\n",
      "Score: 0.6541095972061157\n",
      "Iteration: 38\n",
      "Parameters: (5, 32, 'sigmoid', 0.0, 0.0, 0.0)\n",
      "Score: 0.6061643958091736\n",
      "Iteration: 39\n",
      "Parameters: (5, 64, 'relu', 0.0, 0.0, 0.0)\n",
      "Score: 0.5993150472640991\n",
      "Iteration: 40\n",
      "Parameters: (5, 64, 'tanh', 0.0, 0.0, 0.0)\n",
      "Score: 0.6232876777648926\n",
      "Iteration: 41\n",
      "Parameters: (5, 64, 'sigmoid', 0.0, 0.0, 0.0)\n",
      "Score: 0.6164383292198181\n",
      "Iteration: 42\n",
      "Parameters: (5, 128, 'relu', 0.0, 0.0, 0.0)\n",
      "Score: 0.6232876777648926\n",
      "Iteration: 43\n",
      "Parameters: (5, 128, 'tanh', 0.0, 0.0, 0.0)\n",
      "Score: 0.6198630332946777\n",
      "Iteration: 44\n",
      "Parameters: (5, 128, 'sigmoid', 0.0, 0.0, 0.0)\n",
      "Score: 0.5993150472640991\n",
      "Iteration: 45\n",
      "Parameters: (6, 8, 'relu', 0.0, 0.0, 0.0)\n",
      "Score: 0.6164383292198181\n",
      "Iteration: 46\n",
      "Parameters: (6, 8, 'tanh', 0.0, 0.0, 0.0)\n",
      "Score: 0.6095890402793884\n",
      "Iteration: 47\n",
      "Parameters: (6, 8, 'sigmoid', 0.0, 0.0, 0.0)\n",
      "Score: 0.6130136847496033\n",
      "Iteration: 48\n",
      "Parameters: (6, 16, 'relu', 0.0, 0.0, 0.0)\n",
      "Score: 0.5753424763679504\n",
      "Iteration: 49\n",
      "Parameters: (6, 16, 'tanh', 0.0, 0.0, 0.0)\n",
      "Score: 0.6164383292198181\n",
      "Iteration: 50\n",
      "Parameters: (6, 16, 'sigmoid', 0.0, 0.0, 0.0)\n",
      "Score: 0.6061643958091736\n",
      "Iteration: 51\n",
      "Parameters: (6, 32, 'relu', 0.0, 0.0, 0.0)\n",
      "Score: 0.5616438388824463\n",
      "Iteration: 52\n",
      "Parameters: (6, 32, 'tanh', 0.0, 0.0, 0.0)\n",
      "Score: 0.6369863152503967\n",
      "Iteration: 53\n",
      "Parameters: (6, 32, 'sigmoid', 0.0, 0.0, 0.0)\n",
      "Score: 0.6061643958091736\n",
      "Iteration: 54\n",
      "Parameters: (6, 64, 'relu', 0.0, 0.0, 0.0)\n",
      "Score: 0.6130136847496033\n",
      "Iteration: 55\n",
      "Parameters: (6, 64, 'tanh', 0.0, 0.0, 0.0)\n",
      "Score: 0.6198630332946777\n",
      "Iteration: 56\n",
      "Parameters: (6, 64, 'sigmoid', 0.0, 0.0, 0.0)\n",
      "Score: 0.5890411138534546\n",
      "Iteration: 57\n",
      "Parameters: (6, 128, 'relu', 0.0, 0.0, 0.0)\n",
      "Score: 0.5924657583236694\n",
      "Iteration: 58\n",
      "Parameters: (6, 128, 'tanh', 0.0, 0.0, 0.0)\n",
      "Score: 0.5993150472640991\n",
      "Iteration: 59\n",
      "Parameters: (6, 128, 'sigmoid', 0.0, 0.0, 0.0)\n",
      "Score: 0.5993150472640991\n",
      "Best Score: 0.6541095972061157\n",
      "Best Parameters: (5, 32, 'tanh', 0.0, 0.0, 0.0)\n",
      "Best Iter: 37\n"
     ]
    }
   ],
   "source": [
    "modelset, modeliter, best_iter = [], 0, 0\n",
    "\n",
    "for params in itertools.product(*param_grid.values()):\n",
    "    # Unpack parameters\n",
    "    hidden_layers, neurons, activation, dropout_rate, l1_reg, l2_reg = params\n",
    "    print(f\"Iteration: {modeliter}\")\n",
    "    print(f\"Parameters: {params}\")\n",
    "\n",
    "    # Build and train the model\n",
    "    model = build_model(hidden_layers, neurons, activation, dropout_rate, l1_reg, l2_reg)\n",
    "    model.fit(X_train, y_train, epochs=100, batch_size=10, verbose=0) # Set verbose to 0 to reduce output\n",
    "\n",
    "    # Evaluate the model\n",
    "    score = model.evaluate(X_test, y_test, verbose=0)[1]  # Assuming [1] is accuracy\n",
    "    print(f\"Score: {score}\")\n",
    "    modelset.append(model)\n",
    "\n",
    "    # Update best score\n",
    "    if score > best_score:\n",
    "        best_iter = modeliter\n",
    "        best_score = score\n",
    "        best_params = params\n",
    "        \n",
    "    modeliter += 1\n",
    "\n",
    "# Print the best configuration\n",
    "print(f\"Best Score: {best_score}\")\n",
    "print(f\"Best Parameters: {best_params}\")\n",
    "print(f\"Best Iter: {best_iter}\")"
   ]
  },
  {
   "cell_type": "code",
   "execution_count": 39,
   "metadata": {},
   "outputs": [],
   "source": [
    "best_model = modelset[best_iter]"
   ]
  },
  {
   "cell_type": "code",
   "execution_count": 40,
   "metadata": {},
   "outputs": [
    {
     "name": "stdout",
     "output_type": "stream",
     "text": [
      "10/10 [==============================] - 0s 3ms/step - loss: 1.0081 - accuracy: 0.6541\n"
     ]
    }
   ],
   "source": [
    "score = best_model.evaluate(X_test, y_test)"
   ]
  },
  {
   "cell_type": "code",
   "execution_count": 41,
   "metadata": {},
   "outputs": [
    {
     "name": "stdout",
     "output_type": "stream",
     "text": [
      "Accuracy = 65.41%.\n"
     ]
    }
   ],
   "source": [
    "print('Accuracy = {:0.2f}%.'.format(100 * score[1]))"
   ]
  },
  {
   "cell_type": "code",
   "execution_count": 42,
   "metadata": {},
   "outputs": [
    {
     "name": "stdout",
     "output_type": "stream",
     "text": [
      "10/10 [==============================] - 0s 3ms/step\n",
      "Accuracy: 0.6541\n",
      "Recall: 0.6541\n",
      "Precision: 0.6332\n",
      "F1 Score: 0.6426\n"
     ]
    }
   ],
   "source": [
    "# Predict on the test set\n",
    "y_pred = np.argmax(best_model.predict(X_test), axis=1)\n",
    "y_true = np.argmax(y_test, axis=1)  # Assuming y_test is one-hot encoded\n",
    "\n",
    "# Calculate metrics\n",
    "accuracy = accuracy_score(y_true, y_pred)\n",
    "recall = recall_score(y_true, y_pred, average='weighted')\n",
    "precision = precision_score(y_true, y_pred, average='weighted')\n",
    "f1 = f1_score(y_true, y_pred, average='weighted')\n",
    "    \n",
    "print(f\"Accuracy: {accuracy:.4f}\")\n",
    "print(f\"Recall: {recall:.4f}\")\n",
    "print(f\"Precision: {precision:.4f}\")\n",
    "print(f\"F1 Score: {f1:.4f}\")"
   ]
  },
  {
   "cell_type": "markdown",
   "metadata": {
    "tags": []
   },
   "source": [
    "## Redes Neuronales con Regresión Lineal"
   ]
  },
  {
   "cell_type": "code",
   "execution_count": 52,
   "metadata": {
    "tags": []
   },
   "outputs": [],
   "source": [
    "# Función para construir el modelo\n",
    "def build_regression_model(hidden_layers, neurons, activation, dropout_rate, l1_reg, l2_reg):\n",
    "    model = Sequential()\n",
    "    # Primera capa con regularización\n",
    "    model.add(Dense(neurons, input_dim=X_train.shape[1], activation=activation,\n",
    "                    kernel_regularizer=l1_l2(l1=l1_reg, l2=l2_reg)))\n",
    "    # Capas ocultas adicionales\n",
    "    for _ in range(hidden_layers - 1):\n",
    "        model.add(Dense(neurons, activation=activation, kernel_regularizer=l1_l2(l1=l1_reg, l2=l2_reg)))\n",
    "        if dropout_rate > 0:\n",
    "            model.add(Dropout(dropout_rate))\n",
    "    # Capa de salida (lineal para regresión)\n",
    "    model.add(Dense(1, activation='linear'))\n",
    "    # Compilación del modelo\n",
    "    model.compile(loss='mean_squared_error', optimizer='adam', metrics=['mean_squared_error'])\n",
    "    return model\n",
    "\n",
    "# Definimos los hiperparámetros a probar\n",
    "param_grid = {\n",
    "    'hidden_layers': [3, 4, 5, 6],\n",
    "    'neurons': [4, 8, 16, 32, 64, 128],\n",
    "    'activation': ['relu', 'tanh', 'sigmoid'],\n",
    "    'dropout_rate': [0.0],\n",
    "    'l1_reg': [0.0],\n",
    "    'l2_reg': [0.0]\n",
    "}\n",
    "\n",
    "# Inicializamos variables para almacenar los mejores resultados\n",
    "best_score = float('inf')  # MSE es mejor cuanto más bajo\n",
    "best_params = None"
   ]
  },
  {
   "cell_type": "code",
   "execution_count": 53,
   "metadata": {},
   "outputs": [
    {
     "name": "stdout",
     "output_type": "stream",
     "text": [
      "Iteration: 0\n",
      "Parameters: (3, 4, 'relu', 0.0, 0.0, 0.0)\n",
      "Score (MSE): 0.4174964427947998\n",
      "Iteration: 1\n",
      "Parameters: (3, 4, 'tanh', 0.0, 0.0, 0.0)\n",
      "Score (MSE): 0.41919565200805664\n",
      "Iteration: 2\n",
      "Parameters: (3, 4, 'sigmoid', 0.0, 0.0, 0.0)\n",
      "Score (MSE): 0.40987429022789\n",
      "Iteration: 3\n",
      "Parameters: (3, 8, 'relu', 0.0, 0.0, 0.0)\n",
      "Score (MSE): 0.4246296286582947\n",
      "Iteration: 4\n",
      "Parameters: (3, 8, 'tanh', 0.0, 0.0, 0.0)\n",
      "Score (MSE): 0.4218250513076782\n",
      "Iteration: 5\n",
      "Parameters: (3, 8, 'sigmoid', 0.0, 0.0, 0.0)\n",
      "Score (MSE): 0.41073426604270935\n",
      "Iteration: 6\n",
      "Parameters: (3, 16, 'relu', 0.0, 0.0, 0.0)\n",
      "Score (MSE): 0.4805387854576111\n",
      "Iteration: 7\n",
      "Parameters: (3, 16, 'tanh', 0.0, 0.0, 0.0)\n",
      "Score (MSE): 0.41925331950187683\n",
      "Iteration: 8\n",
      "Parameters: (3, 16, 'sigmoid', 0.0, 0.0, 0.0)\n",
      "Score (MSE): 0.4053885042667389\n",
      "Iteration: 9\n",
      "Parameters: (3, 32, 'relu', 0.0, 0.0, 0.0)\n",
      "Score (MSE): 0.47747260332107544\n",
      "Iteration: 10\n",
      "Parameters: (3, 32, 'tanh', 0.0, 0.0, 0.0)\n",
      "Score (MSE): 0.428949773311615\n",
      "Iteration: 11\n",
      "Parameters: (3, 32, 'sigmoid', 0.0, 0.0, 0.0)\n",
      "Score (MSE): 0.4025091826915741\n",
      "Iteration: 12\n",
      "Parameters: (3, 64, 'relu', 0.0, 0.0, 0.0)\n",
      "Score (MSE): 0.47889313101768494\n",
      "Iteration: 13\n",
      "Parameters: (3, 64, 'tanh', 0.0, 0.0, 0.0)\n",
      "Score (MSE): 0.4565967917442322\n",
      "Iteration: 14\n",
      "Parameters: (3, 64, 'sigmoid', 0.0, 0.0, 0.0)\n",
      "Score (MSE): 0.4028637409210205\n",
      "Iteration: 15\n",
      "Parameters: (3, 128, 'relu', 0.0, 0.0, 0.0)\n",
      "Score (MSE): 0.5306738018989563\n",
      "Iteration: 16\n",
      "Parameters: (3, 128, 'tanh', 0.0, 0.0, 0.0)\n",
      "Score (MSE): 0.44104036688804626\n",
      "Iteration: 17\n",
      "Parameters: (3, 128, 'sigmoid', 0.0, 0.0, 0.0)\n",
      "Score (MSE): 0.40821585059165955\n",
      "Iteration: 18\n",
      "Parameters: (4, 4, 'relu', 0.0, 0.0, 0.0)\n",
      "Score (MSE): 0.41709479689598083\n",
      "Iteration: 19\n",
      "Parameters: (4, 4, 'tanh', 0.0, 0.0, 0.0)\n",
      "Score (MSE): 0.41229861974716187\n",
      "Iteration: 20\n",
      "Parameters: (4, 4, 'sigmoid', 0.0, 0.0, 0.0)\n",
      "Score (MSE): 0.42006856203079224\n",
      "Iteration: 21\n",
      "Parameters: (4, 8, 'relu', 0.0, 0.0, 0.0)\n",
      "Score (MSE): 0.4135132431983948\n",
      "Iteration: 22\n",
      "Parameters: (4, 8, 'tanh', 0.0, 0.0, 0.0)\n",
      "Score (MSE): 0.42535918951034546\n",
      "Iteration: 23\n",
      "Parameters: (4, 8, 'sigmoid', 0.0, 0.0, 0.0)\n",
      "Score (MSE): 0.4070841073989868\n",
      "Iteration: 24\n",
      "Parameters: (4, 16, 'relu', 0.0, 0.0, 0.0)\n",
      "Score (MSE): 0.44357535243034363\n",
      "Iteration: 25\n",
      "Parameters: (4, 16, 'tanh', 0.0, 0.0, 0.0)\n",
      "Score (MSE): 0.4299083948135376\n",
      "Iteration: 26\n",
      "Parameters: (4, 16, 'sigmoid', 0.0, 0.0, 0.0)\n",
      "Score (MSE): 0.40676888823509216\n",
      "Iteration: 27\n",
      "Parameters: (4, 32, 'relu', 0.0, 0.0, 0.0)\n",
      "Score (MSE): 0.47363799810409546\n",
      "Iteration: 28\n",
      "Parameters: (4, 32, 'tanh', 0.0, 0.0, 0.0)\n",
      "Score (MSE): 0.45725589990615845\n",
      "Iteration: 29\n",
      "Parameters: (4, 32, 'sigmoid', 0.0, 0.0, 0.0)\n",
      "Score (MSE): 0.4351159632205963\n",
      "Iteration: 30\n",
      "Parameters: (4, 64, 'relu', 0.0, 0.0, 0.0)\n",
      "Score (MSE): 0.507878839969635\n",
      "Iteration: 31\n",
      "Parameters: (4, 64, 'tanh', 0.0, 0.0, 0.0)\n",
      "Score (MSE): 0.4644467532634735\n",
      "Iteration: 32\n",
      "Parameters: (4, 64, 'sigmoid', 0.0, 0.0, 0.0)\n",
      "Score (MSE): 0.40724849700927734\n",
      "Iteration: 33\n",
      "Parameters: (4, 128, 'relu', 0.0, 0.0, 0.0)\n",
      "Score (MSE): 0.5104708671569824\n",
      "Iteration: 34\n",
      "Parameters: (4, 128, 'tanh', 0.0, 0.0, 0.0)\n",
      "Score (MSE): 0.5107329487800598\n",
      "Iteration: 35\n",
      "Parameters: (4, 128, 'sigmoid', 0.0, 0.0, 0.0)\n",
      "Score (MSE): 0.4044469892978668\n",
      "Iteration: 36\n",
      "Parameters: (5, 4, 'relu', 0.0, 0.0, 0.0)\n",
      "Score (MSE): 0.4235769212245941\n",
      "Iteration: 37\n",
      "Parameters: (5, 4, 'tanh', 0.0, 0.0, 0.0)\n",
      "Score (MSE): 0.40424221754074097\n",
      "Iteration: 38\n",
      "Parameters: (5, 4, 'sigmoid', 0.0, 0.0, 0.0)\n",
      "Score (MSE): 0.42198824882507324\n",
      "Iteration: 39\n",
      "Parameters: (5, 8, 'relu', 0.0, 0.0, 0.0)\n",
      "Score (MSE): 0.41730841994285583\n",
      "Iteration: 40\n",
      "Parameters: (5, 8, 'tanh', 0.0, 0.0, 0.0)\n",
      "Score (MSE): 0.4281148910522461\n",
      "Iteration: 41\n",
      "Parameters: (5, 8, 'sigmoid', 0.0, 0.0, 0.0)\n",
      "Score (MSE): 0.40866169333457947\n",
      "Iteration: 42\n",
      "Parameters: (5, 16, 'relu', 0.0, 0.0, 0.0)\n",
      "Score (MSE): 0.4717327654361725\n",
      "Iteration: 43\n",
      "Parameters: (5, 16, 'tanh', 0.0, 0.0, 0.0)\n",
      "Score (MSE): 0.42339393496513367\n",
      "Iteration: 44\n",
      "Parameters: (5, 16, 'sigmoid', 0.0, 0.0, 0.0)\n",
      "Score (MSE): 0.40617409348487854\n",
      "Iteration: 45\n",
      "Parameters: (5, 32, 'relu', 0.0, 0.0, 0.0)\n",
      "Score (MSE): 0.4613628089427948\n",
      "Iteration: 46\n",
      "Parameters: (5, 32, 'tanh', 0.0, 0.0, 0.0)\n",
      "Score (MSE): 0.4554027318954468\n",
      "Iteration: 47\n",
      "Parameters: (5, 32, 'sigmoid', 0.0, 0.0, 0.0)\n",
      "Score (MSE): 0.4052634835243225\n",
      "Iteration: 48\n",
      "Parameters: (5, 64, 'relu', 0.0, 0.0, 0.0)\n",
      "Score (MSE): 0.5435563921928406\n",
      "Iteration: 49\n",
      "Parameters: (5, 64, 'tanh', 0.0, 0.0, 0.0)\n",
      "Score (MSE): 0.45360058546066284\n",
      "Iteration: 50\n",
      "Parameters: (5, 64, 'sigmoid', 0.0, 0.0, 0.0)\n",
      "Score (MSE): 0.4051527678966522\n",
      "Iteration: 51\n",
      "Parameters: (5, 128, 'relu', 0.0, 0.0, 0.0)\n",
      "Score (MSE): 0.6057599782943726\n",
      "Iteration: 52\n",
      "Parameters: (5, 128, 'tanh', 0.0, 0.0, 0.0)\n",
      "Score (MSE): 0.4165528416633606\n",
      "Iteration: 53\n",
      "Parameters: (5, 128, 'sigmoid', 0.0, 0.0, 0.0)\n",
      "Score (MSE): 0.40150582790374756\n",
      "Iteration: 54\n",
      "Parameters: (6, 4, 'relu', 0.0, 0.0, 0.0)\n",
      "Score (MSE): 0.575804591178894\n",
      "Iteration: 55\n",
      "Parameters: (6, 4, 'tanh', 0.0, 0.0, 0.0)\n",
      "Score (MSE): 0.4073902666568756\n",
      "Iteration: 56\n",
      "Parameters: (6, 4, 'sigmoid', 0.0, 0.0, 0.0)\n",
      "Score (MSE): 0.4260340929031372\n",
      "Iteration: 57\n",
      "Parameters: (6, 8, 'relu', 0.0, 0.0, 0.0)\n",
      "Score (MSE): 0.44267743825912476\n",
      "Iteration: 58\n",
      "Parameters: (6, 8, 'tanh', 0.0, 0.0, 0.0)\n",
      "Score (MSE): 0.4038552939891815\n",
      "Iteration: 59\n",
      "Parameters: (6, 8, 'sigmoid', 0.0, 0.0, 0.0)\n",
      "Score (MSE): 0.4200352132320404\n",
      "Iteration: 60\n",
      "Parameters: (6, 16, 'relu', 0.0, 0.0, 0.0)\n",
      "Score (MSE): 0.4822934865951538\n",
      "Iteration: 61\n",
      "Parameters: (6, 16, 'tanh', 0.0, 0.0, 0.0)\n",
      "Score (MSE): 0.4369634985923767\n",
      "Iteration: 62\n",
      "Parameters: (6, 16, 'sigmoid', 0.0, 0.0, 0.0)\n",
      "Score (MSE): 0.40647372603416443\n",
      "Iteration: 63\n",
      "Parameters: (6, 32, 'relu', 0.0, 0.0, 0.0)\n",
      "Score (MSE): 0.5409895181655884\n",
      "Iteration: 64\n",
      "Parameters: (6, 32, 'tanh', 0.0, 0.0, 0.0)\n",
      "Score (MSE): 0.4677928686141968\n",
      "Iteration: 65\n",
      "Parameters: (6, 32, 'sigmoid', 0.0, 0.0, 0.0)\n",
      "Score (MSE): 0.4290541112422943\n",
      "Iteration: 66\n",
      "Parameters: (6, 64, 'relu', 0.0, 0.0, 0.0)\n",
      "Score (MSE): 0.6625956296920776\n",
      "Iteration: 67\n",
      "Parameters: (6, 64, 'tanh', 0.0, 0.0, 0.0)\n",
      "Score (MSE): 0.4544192850589752\n",
      "Iteration: 68\n",
      "Parameters: (6, 64, 'sigmoid', 0.0, 0.0, 0.0)\n",
      "Score (MSE): 0.40952929854393005\n",
      "Iteration: 69\n",
      "Parameters: (6, 128, 'relu', 0.0, 0.0, 0.0)\n",
      "Score (MSE): 0.578569769859314\n",
      "Iteration: 70\n",
      "Parameters: (6, 128, 'tanh', 0.0, 0.0, 0.0)\n",
      "Score (MSE): 0.415903776884079\n",
      "Iteration: 71\n",
      "Parameters: (6, 128, 'sigmoid', 0.0, 0.0, 0.0)\n",
      "Score (MSE): 0.4078734815120697\n",
      "Best Score (MSE): 0.40150582790374756\n",
      "Best Parameters: (5, 128, 'sigmoid', 0.0, 0.0, 0.0)\n",
      "Best Iter: 53\n"
     ]
    }
   ],
   "source": [
    "modelset, modeliter, best_iter = [], 0, 0\n",
    "\n",
    "# Iteramos sobre todas las combinaciones de hiperparámetros\n",
    "for params in itertools.product(*param_grid.values()):\n",
    "    # Desempaquetamos los parámetros\n",
    "    hidden_layers, neurons, activation, dropout_rate, l1_reg, l2_reg = params\n",
    "    print(f\"Iteration: {modeliter}\")\n",
    "    print(f\"Parameters: {params}\")\n",
    "    # Construimos y entrenamos el modelo\n",
    "    model = build_regression_model(hidden_layers, neurons, activation, dropout_rate, l1_reg, l2_reg)\n",
    "    model.fit(X_train, y_train, epochs=100, batch_size=10, verbose=0)  # Ajustamos verbose para reducir el output\n",
    "    # Evaluamos el modelo\n",
    "    score = model.evaluate(X_test, y_test, verbose=0)[0]  # [0] es MSE\n",
    "    print(f\"Score (MSE): {score}\")\n",
    "    modelset.append(model)\n",
    "    # Actualizamos el mejor puntaje\n",
    "    if score < best_score:  # Buscamos el MSE más bajo\n",
    "        best_iter = modeliter\n",
    "        best_score = score\n",
    "        best_params = params\n",
    "    modeliter += 1\n",
    "\n",
    "# Imprimimos la mejor configuración\n",
    "print(f\"Best Score (MSE): {best_score}\")\n",
    "print(f\"Best Parameters: {best_params}\")\n",
    "print(f\"Best Iter: {best_iter}\")"
   ]
  },
  {
   "cell_type": "code",
   "execution_count": 54,
   "metadata": {},
   "outputs": [],
   "source": [
    "best_model_reg = modelset[best_iter]"
   ]
  },
  {
   "cell_type": "code",
   "execution_count": 55,
   "metadata": {
    "tags": []
   },
   "outputs": [
    {
     "name": "stdout",
     "output_type": "stream",
     "text": [
      "10/10 [==============================] - 0s 4ms/step - loss: 0.4015 - mean_squared_error: 0.4015\n",
      "MSE = 0.4015\n"
     ]
    }
   ],
   "source": [
    "score = best_model_reg.evaluate(X_test, y_test)\n",
    "print('MSE = {:0.4f}'.format(score[0]))"
   ]
  },
  {
   "cell_type": "code",
   "execution_count": 58,
   "metadata": {
    "tags": []
   },
   "outputs": [
    {
     "data": {
      "text/plain": [
       "['../models/best_estimator_etr.joblib']"
      ]
     },
     "execution_count": 58,
     "metadata": {},
     "output_type": "execute_result"
    }
   ],
   "source": [
    "from joblib import dump\n",
    "dump(best_estimator_etr, '../models/best_estimator_etr.joblib')"
   ]
  },
  {
   "cell_type": "code",
   "execution_count": 59,
   "metadata": {
    "tags": []
   },
   "outputs": [],
   "source": [
    "ferm_data = pd.read_excel('../data/BDD_MANUAL.xlsx')\n",
    "# relevant_columns = ['Fecha', 'densidad', 'brix aprox', 'alcohol aprox', 'Ph', 'lote']\n",
    "# ferm_data = ferm_data[relevant_columns]\n",
    "ferm_data.rename(columns={'alcohol aprox': 'alcohol','brix aprox':'residual sugar', 'densidad': 'density', 'Ph':'pH'}, inplace=True)"
   ]
  },
  {
   "cell_type": "code",
   "execution_count": 62,
   "metadata": {},
   "outputs": [
    {
     "data": {
      "text/html": [
       "<div>\n",
       "<style scoped>\n",
       "    .dataframe tbody tr th:only-of-type {\n",
       "        vertical-align: middle;\n",
       "    }\n",
       "\n",
       "    .dataframe tbody tr th {\n",
       "        vertical-align: top;\n",
       "    }\n",
       "\n",
       "    .dataframe thead th {\n",
       "        text-align: right;\n",
       "    }\n",
       "</style>\n",
       "<table border=\"1\" class=\"dataframe\">\n",
       "  <thead>\n",
       "    <tr style=\"text-align: right;\">\n",
       "      <th></th>\n",
       "      <th>Fecha</th>\n",
       "      <th>Temp</th>\n",
       "      <th>Celcius</th>\n",
       "      <th>density</th>\n",
       "      <th>residual sugar</th>\n",
       "      <th>brix refrectometro</th>\n",
       "      <th>Alcolyzer</th>\n",
       "      <th>alcohol</th>\n",
       "      <th>pH</th>\n",
       "      <th>lugar</th>\n",
       "      <th>lote</th>\n",
       "      <th>Acidez Total</th>\n",
       "      <th>T ambiente</th>\n",
       "      <th>Observaciones</th>\n",
       "      <th>Tipo de uva</th>\n",
       "      <th>Unnamed: 15</th>\n",
       "      <th>prediction</th>\n",
       "    </tr>\n",
       "  </thead>\n",
       "  <tbody>\n",
       "    <tr>\n",
       "      <th>0</th>\n",
       "      <td>2023-10-02</td>\n",
       "      <td>69.6</td>\n",
       "      <td>20.888889</td>\n",
       "      <td>1.09738</td>\n",
       "      <td>23.2</td>\n",
       "      <td>23.0</td>\n",
       "      <td>-0.08</td>\n",
       "      <td>0.00000</td>\n",
       "      <td>3.06</td>\n",
       "      <td>Laboratorio</td>\n",
       "      <td>L1CA</td>\n",
       "      <td>4.6</td>\n",
       "      <td>NaN</td>\n",
       "      <td>Inicio</td>\n",
       "      <td>Uva colombia</td>\n",
       "      <td>NaN</td>\n",
       "      <td>5.242502</td>\n",
       "    </tr>\n",
       "    <tr>\n",
       "      <th>1</th>\n",
       "      <td>2023-10-02</td>\n",
       "      <td>69.2</td>\n",
       "      <td>20.666667</td>\n",
       "      <td>1.10033</td>\n",
       "      <td>23.8</td>\n",
       "      <td>22.0</td>\n",
       "      <td>-0.13</td>\n",
       "      <td>0.00000</td>\n",
       "      <td>3.04</td>\n",
       "      <td>Laboratorio</td>\n",
       "      <td>L2SA</td>\n",
       "      <td>NaN</td>\n",
       "      <td>NaN</td>\n",
       "      <td>Inicio</td>\n",
       "      <td>Uva colombia</td>\n",
       "      <td>NaN</td>\n",
       "      <td>5.242502</td>\n",
       "    </tr>\n",
       "    <tr>\n",
       "      <th>2</th>\n",
       "      <td>2023-10-03</td>\n",
       "      <td>69.2</td>\n",
       "      <td>20.666667</td>\n",
       "      <td>1.09008</td>\n",
       "      <td>21.6</td>\n",
       "      <td>21.5</td>\n",
       "      <td>0.81</td>\n",
       "      <td>0.95630</td>\n",
       "      <td>3.06</td>\n",
       "      <td>Laboratorio</td>\n",
       "      <td>L1CA</td>\n",
       "      <td>NaN</td>\n",
       "      <td>NaN</td>\n",
       "      <td>NaN</td>\n",
       "      <td>Uva colombia</td>\n",
       "      <td>NaN</td>\n",
       "      <td>5.242502</td>\n",
       "    </tr>\n",
       "    <tr>\n",
       "      <th>3</th>\n",
       "      <td>2023-10-03</td>\n",
       "      <td>69.4</td>\n",
       "      <td>20.777778</td>\n",
       "      <td>1.09125</td>\n",
       "      <td>21.8</td>\n",
       "      <td>21.0</td>\n",
       "      <td>1.13</td>\n",
       "      <td>1.18948</td>\n",
       "      <td>3.04</td>\n",
       "      <td>Laboratorio</td>\n",
       "      <td>L2SA</td>\n",
       "      <td>NaN</td>\n",
       "      <td>NaN</td>\n",
       "      <td>NaN</td>\n",
       "      <td>Uva colombia</td>\n",
       "      <td>NaN</td>\n",
       "      <td>5.242502</td>\n",
       "    </tr>\n",
       "    <tr>\n",
       "      <th>4</th>\n",
       "      <td>2023-10-04</td>\n",
       "      <td>71.5</td>\n",
       "      <td>21.944444</td>\n",
       "      <td>1.08709</td>\n",
       "      <td>21.0</td>\n",
       "      <td>19.0</td>\n",
       "      <td>1.67</td>\n",
       "      <td>1.34799</td>\n",
       "      <td>3.06</td>\n",
       "      <td>Laboratorio</td>\n",
       "      <td>L1CA</td>\n",
       "      <td>NaN</td>\n",
       "      <td>20.3</td>\n",
       "      <td>NaN</td>\n",
       "      <td>Uva colombia</td>\n",
       "      <td>NaN</td>\n",
       "      <td>5.242502</td>\n",
       "    </tr>\n",
       "    <tr>\n",
       "      <th>5</th>\n",
       "      <td>2023-10-04</td>\n",
       "      <td>70.7</td>\n",
       "      <td>21.500000</td>\n",
       "      <td>1.08067</td>\n",
       "      <td>19.4</td>\n",
       "      <td>20.5</td>\n",
       "      <td>2.14</td>\n",
       "      <td>2.57546</td>\n",
       "      <td>3.04</td>\n",
       "      <td>Laboratorio</td>\n",
       "      <td>L2SA</td>\n",
       "      <td>NaN</td>\n",
       "      <td>20.3</td>\n",
       "      <td>NaN</td>\n",
       "      <td>Uva colombia</td>\n",
       "      <td>NaN</td>\n",
       "      <td>5.242502</td>\n",
       "    </tr>\n",
       "    <tr>\n",
       "      <th>6</th>\n",
       "      <td>2023-10-05</td>\n",
       "      <td>71.6</td>\n",
       "      <td>22.000000</td>\n",
       "      <td>1.08360</td>\n",
       "      <td>20.0</td>\n",
       "      <td>18.0</td>\n",
       "      <td>2.04</td>\n",
       "      <td>1.80518</td>\n",
       "      <td>3.06</td>\n",
       "      <td>Laboratorio</td>\n",
       "      <td>L1CA</td>\n",
       "      <td>NaN</td>\n",
       "      <td>NaN</td>\n",
       "      <td>NaN</td>\n",
       "      <td>Uva colombia</td>\n",
       "      <td>NaN</td>\n",
       "      <td>5.242502</td>\n",
       "    </tr>\n",
       "    <tr>\n",
       "      <th>7</th>\n",
       "      <td>2023-10-05</td>\n",
       "      <td>69.2</td>\n",
       "      <td>20.666667</td>\n",
       "      <td>1.06392</td>\n",
       "      <td>15.6</td>\n",
       "      <td>19.5</td>\n",
       "      <td>2.76</td>\n",
       "      <td>4.76971</td>\n",
       "      <td>3.04</td>\n",
       "      <td>Laboratorio</td>\n",
       "      <td>L2SA</td>\n",
       "      <td>NaN</td>\n",
       "      <td>NaN</td>\n",
       "      <td>NaN</td>\n",
       "      <td>Uva colombia</td>\n",
       "      <td>NaN</td>\n",
       "      <td>5.242502</td>\n",
       "    </tr>\n",
       "    <tr>\n",
       "      <th>8</th>\n",
       "      <td>2023-10-06</td>\n",
       "      <td>69.6</td>\n",
       "      <td>20.888889</td>\n",
       "      <td>1.07672</td>\n",
       "      <td>18.6</td>\n",
       "      <td>18.5</td>\n",
       "      <td>2.99</td>\n",
       "      <td>2.70646</td>\n",
       "      <td>3.06</td>\n",
       "      <td>Laboratorio</td>\n",
       "      <td>L1CA</td>\n",
       "      <td>NaN</td>\n",
       "      <td>20.5</td>\n",
       "      <td>NaN</td>\n",
       "      <td>Uva colombia</td>\n",
       "      <td>NaN</td>\n",
       "      <td>5.242502</td>\n",
       "    </tr>\n",
       "    <tr>\n",
       "      <th>9</th>\n",
       "      <td>2023-10-06</td>\n",
       "      <td>71.1</td>\n",
       "      <td>21.722222</td>\n",
       "      <td>1.04863</td>\n",
       "      <td>12.0</td>\n",
       "      <td>17.0</td>\n",
       "      <td>3.67</td>\n",
       "      <td>6.77270</td>\n",
       "      <td>3.06</td>\n",
       "      <td>Laboratorio</td>\n",
       "      <td>L2SA</td>\n",
       "      <td>NaN</td>\n",
       "      <td>20.5</td>\n",
       "      <td>NaN</td>\n",
       "      <td>Uva colombia</td>\n",
       "      <td>NaN</td>\n",
       "      <td>5.242502</td>\n",
       "    </tr>\n",
       "  </tbody>\n",
       "</table>\n",
       "</div>"
      ],
      "text/plain": [
       "       Fecha  Temp    Celcius  density  residual sugar  brix refrectometro  \\\n",
       "0 2023-10-02  69.6  20.888889  1.09738            23.2                23.0   \n",
       "1 2023-10-02  69.2  20.666667  1.10033            23.8                22.0   \n",
       "2 2023-10-03  69.2  20.666667  1.09008            21.6                21.5   \n",
       "3 2023-10-03  69.4  20.777778  1.09125            21.8                21.0   \n",
       "4 2023-10-04  71.5  21.944444  1.08709            21.0                19.0   \n",
       "5 2023-10-04  70.7  21.500000  1.08067            19.4                20.5   \n",
       "6 2023-10-05  71.6  22.000000  1.08360            20.0                18.0   \n",
       "7 2023-10-05  69.2  20.666667  1.06392            15.6                19.5   \n",
       "8 2023-10-06  69.6  20.888889  1.07672            18.6                18.5   \n",
       "9 2023-10-06  71.1  21.722222  1.04863            12.0                17.0   \n",
       "\n",
       "   Alcolyzer  alcohol    pH        lugar  lote  Acidez Total  T ambiente  \\\n",
       "0      -0.08  0.00000  3.06  Laboratorio  L1CA           4.6         NaN   \n",
       "1      -0.13  0.00000  3.04  Laboratorio  L2SA           NaN         NaN   \n",
       "2       0.81  0.95630  3.06  Laboratorio  L1CA           NaN         NaN   \n",
       "3       1.13  1.18948  3.04  Laboratorio  L2SA           NaN         NaN   \n",
       "4       1.67  1.34799  3.06  Laboratorio  L1CA           NaN        20.3   \n",
       "5       2.14  2.57546  3.04  Laboratorio  L2SA           NaN        20.3   \n",
       "6       2.04  1.80518  3.06  Laboratorio  L1CA           NaN         NaN   \n",
       "7       2.76  4.76971  3.04  Laboratorio  L2SA           NaN         NaN   \n",
       "8       2.99  2.70646  3.06  Laboratorio  L1CA           NaN        20.5   \n",
       "9       3.67  6.77270  3.06  Laboratorio  L2SA           NaN        20.5   \n",
       "\n",
       "  Observaciones   Tipo de uva Unnamed: 15  prediction  \n",
       "0        Inicio  Uva colombia         NaN    5.242502  \n",
       "1        Inicio  Uva colombia         NaN    5.242502  \n",
       "2           NaN  Uva colombia         NaN    5.242502  \n",
       "3           NaN  Uva colombia         NaN    5.242502  \n",
       "4           NaN  Uva colombia         NaN    5.242502  \n",
       "5           NaN  Uva colombia         NaN    5.242502  \n",
       "6           NaN  Uva colombia         NaN    5.242502  \n",
       "7           NaN  Uva colombia         NaN    5.242502  \n",
       "8           NaN  Uva colombia         NaN    5.242502  \n",
       "9           NaN  Uva colombia         NaN    5.242502  "
      ]
     },
     "execution_count": 62,
     "metadata": {},
     "output_type": "execute_result"
    }
   ],
   "source": [
    "ferm_data_scaled = Scaler_X.transform(ferm_data[['alcohol', 'residual sugar', 'density', 'pH']])\n",
    "predictions = best_estimator_etr.predict(ferm_data_scaled)\n",
    "ferm_data['prediction'] = predictions\n",
    "ferm_data.head(10)"
   ]
  },
  {
   "cell_type": "code",
   "execution_count": 63,
   "metadata": {},
   "outputs": [
    {
     "data": {
      "image/png": "[encoded data removed]",
      "text/plain": [
       "<Figure size 640x480 with 1 Axes>"
      ]
     },
     "metadata": {},
     "output_type": "display_data"
    }
   ],
   "source": [
    "import matplotlib.pyplot as plt\n",
    "colors = {'L1CA':'red', 'L2SA':'green', 'B3SA':'blue', 'B4SA':'purple', 'B5SA':'yellow', 'B6SA':'orange'}\n",
    "plt.scatter(x=ferm_data['alcohol'], y=ferm_data['prediction'], c=ferm_data['lote'].map(colors))\n",
    "plt.title('Calidad predicha en función del grado de alcohol')\n",
    "plt.xlabel(\"Alcohol\")\n",
    "plt.ylabel(\"Calidad predicha\")\n",
    "plt.savefig('../fig/alcohol.png')\n",
    "plt.show()"
   ]
  },
  {
   "cell_type": "code",
   "execution_count": 64,
   "metadata": {},
   "outputs": [
    {
     "data": {
      "image/png": "[encoded data removed]",
      "text/plain": [
       "<Figure size 640x480 with 1 Axes>"
      ]
     },
     "metadata": {},
     "output_type": "display_data"
    }
   ],
   "source": [
    "import matplotlib.pyplot as plt\n",
    "colors = {'L1CA':'red', 'L2SA':'green', 'B3SA':'blue', 'B4SA':'purple', 'B5SA':'yellow', 'B6SA':'orange'}\n",
    "plt.scatter(x=ferm_data['pH'], y=ferm_data['prediction'], c=ferm_data['lote'].map(colors))\n",
    "plt.title('Calidad predicha en función del pH')\n",
    "plt.xlabel(\"pH\")\n",
    "plt.ylabel(\"Calidad predicha\")\n",
    "plt.savefig('../fig/ph.png')\n",
    "plt.show()"
   ]
  },
  {
   "cell_type": "code",
   "execution_count": 65,
   "metadata": {},
   "outputs": [
    {
     "data": {
      "image/png": "[encoded data removed]",
      "text/plain": [
       "<Figure size 640x480 with 1 Axes>"
      ]
     },
     "metadata": {},
     "output_type": "display_data"
    }
   ],
   "source": [
    "import matplotlib.pyplot as plt\n",
    "colors = {'L1CA':'red', 'L2SA':'green', 'B3SA':'blue', 'B4SA':'purple', 'B5SA':'yellow', 'B6SA':'orange'}\n",
    "plt.scatter(x=ferm_data['residual sugar'], y=ferm_data['prediction'], c=ferm_data['lote'].map(colors))\n",
    "plt.title('Calidad predicha en función del Azúcar residual (grados brix)')\n",
    "plt.xlabel(\"Azúcar residual\")\n",
    "plt.ylabel(\"Calidad predicha\")\n",
    "plt.savefig('../fig/brix.png')\n",
    "plt.show()"
   ]
  },
  {
   "cell_type": "code",
   "execution_count": 66,
   "metadata": {
    "jupyter": {
     "source_hidden": true
    },
    "tags": []
   },
   "outputs": [
    {
     "data": {
      "image/png": "[encoded data removed]",
      "text/plain": [
       "<Figure size 640x480 with 1 Axes>"
      ]
     },
     "metadata": {},
     "output_type": "display_data"
    }
   ],
   "source": [
    "\n",
    "import matplotlib.pyplot as plt\n",
    "colors = {'L1CA':'red', 'L2SA':'green', 'B3SA':'blue', 'B4SA':'purple', 'B5SA':'yellow', 'B6SA':'orange'}\n",
    "plt.scatter(x=ferm_data['density'], y=ferm_data['prediction'], c=ferm_data['lote'].map(colors))\n",
    "plt.title('Calidad predicha en función de la densidad')\n",
    "plt.xlabel(\"Densidad\")\n",
    "plt.ylabel(\"Calidad predicha\")\n",
    "plt.savefig('../fig/densidad.png')\n",
    "plt.show()"
   ]
  },
  {
   "cell_type": "code",
   "execution_count": null,
   "metadata": {},
   "outputs": [],
   "source": []
  }
 ],
 "metadata": {
  "kernelspec": {
   "display_name": "Python 3 (ipykernel)",
   "language": "python",
   "name": "python3"
  },
  "language_info": {
   "codemirror_mode": {
    "name": "ipython",
    "version": 3
   },
   "file_extension": ".py",
   "mimetype": "text/x-python",
   "name": "python",
   "nbconvert_exporter": "python",
   "pygments_lexer": "ipython3",
   "version": "3.9.13"
  }
 },
 "nbformat": 4,
 "nbformat_minor": 4
}
